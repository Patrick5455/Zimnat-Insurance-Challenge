{
  "nbformat": 4,
  "nbformat_minor": 0,
  "metadata": {
    "colab": {
      "name": "Untitled",
      "provenance": [],
      "collapsed_sections": [],
      "toc_visible": true
    },
    "kernelspec": {
      "name": "python3",
      "display_name": "Python 3"
    }
  },
  "cells": [
    {
      "cell_type": "code",
      "metadata": {
        "id": "UybcsLMEHfr1",
        "colab_type": "code",
        "colab": {}
      },
      "source": [
        "import pandas as pd\n",
        "import numpy as np\n",
        "import seaborn as sns\n",
        "import matplotlib.pyplot as plt\n",
        "from sklearn.impute import SimpleImputer"
      ],
      "execution_count": 3,
      "outputs": []
    },
    {
      "cell_type": "markdown",
      "metadata": {
        "id": "0xXSU2XBpQCf",
        "colab_type": "text"
      },
      "source": [
        "### Data"
      ]
    },
    {
      "cell_type": "code",
      "metadata": {
        "id": "4fkbA4wUjEAM",
        "colab_type": "code",
        "colab": {}
      },
      "source": [
        "def load_data(train_path, test_path, sub_path):\n",
        "    train = pd.read_csv(train_path)\n",
        "    test = pd.read_csv(test_path)\n",
        "    sub = pd.read_csv(sub_path)\n",
        "\n",
        "    # print(train.info())\n",
        "    # print(test.info())\n",
        "\n",
        "    return train, test, sub\n",
        "\n",
        "train, test, sub = load_data('/content/Train.csv', '/content/Test.csv', '/content/SampleSubmission.csv')"
      ],
      "execution_count": 4,
      "outputs": []
    },
    {
      "cell_type": "code",
      "metadata": {
        "id": "nGNAGVTHlXF1",
        "colab_type": "code",
        "colab": {
          "base_uri": "https://localhost:8080/",
          "height": 163
        },
        "outputId": "4b682500-d46c-4b43-c3ad-864f38df8cce"
      },
      "source": [
        "train.head(3)"
      ],
      "execution_count": 5,
      "outputs": [
        {
          "output_type": "execute_result",
          "data": {
            "text/html": [
              "<div>\n",
              "<style scoped>\n",
              "    .dataframe tbody tr th:only-of-type {\n",
              "        vertical-align: middle;\n",
              "    }\n",
              "\n",
              "    .dataframe tbody tr th {\n",
              "        vertical-align: top;\n",
              "    }\n",
              "\n",
              "    .dataframe thead th {\n",
              "        text-align: right;\n",
              "    }\n",
              "</style>\n",
              "<table border=\"1\" class=\"dataframe\">\n",
              "  <thead>\n",
              "    <tr style=\"text-align: right;\">\n",
              "      <th></th>\n",
              "      <th>ID</th>\n",
              "      <th>join_date</th>\n",
              "      <th>sex</th>\n",
              "      <th>marital_status</th>\n",
              "      <th>birth_year</th>\n",
              "      <th>branch_code</th>\n",
              "      <th>occupation_code</th>\n",
              "      <th>occupation_category_code</th>\n",
              "      <th>P5DA</th>\n",
              "      <th>RIBP</th>\n",
              "      <th>8NN1</th>\n",
              "      <th>7POT</th>\n",
              "      <th>66FJ</th>\n",
              "      <th>GYSR</th>\n",
              "      <th>SOP4</th>\n",
              "      <th>RVSZ</th>\n",
              "      <th>PYUQ</th>\n",
              "      <th>LJR9</th>\n",
              "      <th>N2MW</th>\n",
              "      <th>AHXO</th>\n",
              "      <th>BSTQ</th>\n",
              "      <th>FM3X</th>\n",
              "      <th>K6QO</th>\n",
              "      <th>QBOL</th>\n",
              "      <th>JWFN</th>\n",
              "      <th>JZ9D</th>\n",
              "      <th>J9JW</th>\n",
              "      <th>GHYX</th>\n",
              "      <th>ECY3</th>\n",
              "    </tr>\n",
              "  </thead>\n",
              "  <tbody>\n",
              "    <tr>\n",
              "      <th>0</th>\n",
              "      <td>4WKQSBB</td>\n",
              "      <td>1/2/2019</td>\n",
              "      <td>F</td>\n",
              "      <td>M</td>\n",
              "      <td>1987</td>\n",
              "      <td>1X1H</td>\n",
              "      <td>2A7I</td>\n",
              "      <td>T4MS</td>\n",
              "      <td>0</td>\n",
              "      <td>0</td>\n",
              "      <td>0</td>\n",
              "      <td>0</td>\n",
              "      <td>0</td>\n",
              "      <td>0</td>\n",
              "      <td>0</td>\n",
              "      <td>1</td>\n",
              "      <td>0</td>\n",
              "      <td>0</td>\n",
              "      <td>0</td>\n",
              "      <td>0</td>\n",
              "      <td>0</td>\n",
              "      <td>0</td>\n",
              "      <td>1</td>\n",
              "      <td>0</td>\n",
              "      <td>0</td>\n",
              "      <td>0</td>\n",
              "      <td>0</td>\n",
              "      <td>0</td>\n",
              "      <td>0</td>\n",
              "    </tr>\n",
              "    <tr>\n",
              "      <th>1</th>\n",
              "      <td>CP5S02H</td>\n",
              "      <td>1/6/2019</td>\n",
              "      <td>F</td>\n",
              "      <td>M</td>\n",
              "      <td>1981</td>\n",
              "      <td>UAOD</td>\n",
              "      <td>2A7I</td>\n",
              "      <td>T4MS</td>\n",
              "      <td>0</td>\n",
              "      <td>0</td>\n",
              "      <td>0</td>\n",
              "      <td>0</td>\n",
              "      <td>0</td>\n",
              "      <td>0</td>\n",
              "      <td>0</td>\n",
              "      <td>1</td>\n",
              "      <td>0</td>\n",
              "      <td>0</td>\n",
              "      <td>0</td>\n",
              "      <td>0</td>\n",
              "      <td>0</td>\n",
              "      <td>0</td>\n",
              "      <td>1</td>\n",
              "      <td>0</td>\n",
              "      <td>0</td>\n",
              "      <td>0</td>\n",
              "      <td>0</td>\n",
              "      <td>0</td>\n",
              "      <td>0</td>\n",
              "    </tr>\n",
              "    <tr>\n",
              "      <th>2</th>\n",
              "      <td>2YKDILJ</td>\n",
              "      <td>1/6/2013</td>\n",
              "      <td>M</td>\n",
              "      <td>U</td>\n",
              "      <td>1991</td>\n",
              "      <td>748L</td>\n",
              "      <td>QZYX</td>\n",
              "      <td>90QI</td>\n",
              "      <td>0</td>\n",
              "      <td>0</td>\n",
              "      <td>0</td>\n",
              "      <td>0</td>\n",
              "      <td>0</td>\n",
              "      <td>0</td>\n",
              "      <td>1</td>\n",
              "      <td>1</td>\n",
              "      <td>0</td>\n",
              "      <td>0</td>\n",
              "      <td>0</td>\n",
              "      <td>0</td>\n",
              "      <td>0</td>\n",
              "      <td>0</td>\n",
              "      <td>0</td>\n",
              "      <td>0</td>\n",
              "      <td>0</td>\n",
              "      <td>0</td>\n",
              "      <td>0</td>\n",
              "      <td>0</td>\n",
              "      <td>1</td>\n",
              "    </tr>\n",
              "  </tbody>\n",
              "</table>\n",
              "</div>"
            ],
            "text/plain": [
              "        ID join_date sex marital_status  ...  JZ9D J9JW GHYX ECY3\n",
              "0  4WKQSBB  1/2/2019   F              M  ...     0    0    0    0\n",
              "1  CP5S02H  1/6/2019   F              M  ...     0    0    0    0\n",
              "2  2YKDILJ  1/6/2013   M              U  ...     0    0    0    1\n",
              "\n",
              "[3 rows x 29 columns]"
            ]
          },
          "metadata": {
            "tags": []
          },
          "execution_count": 5
        }
      ]
    },
    {
      "cell_type": "markdown",
      "metadata": {
        "id": "fmoQ1DJUV5RB",
        "colab_type": "text"
      },
      "source": [
        "## Preprocessing"
      ]
    },
    {
      "cell_type": "code",
      "metadata": {
        "id": "Yhig1xKIJdNM",
        "colab_type": "code",
        "colab": {
          "base_uri": "https://localhost:8080/",
          "height": 206
        },
        "outputId": "de91bdfc-babe-4885-dc7d-b02500e4d634"
      },
      "source": [
        "products = train.columns[8:]\n",
        "n_train = pd.melt(train, id_vars=train.columns[:8], value_vars=products)\n",
        "n_test = pd.melt(test, id_vars=test.columns[:8], value_vars=products)\n",
        "n_train.head()"
      ],
      "execution_count": 6,
      "outputs": [
        {
          "output_type": "execute_result",
          "data": {
            "text/html": [
              "<div>\n",
              "<style scoped>\n",
              "    .dataframe tbody tr th:only-of-type {\n",
              "        vertical-align: middle;\n",
              "    }\n",
              "\n",
              "    .dataframe tbody tr th {\n",
              "        vertical-align: top;\n",
              "    }\n",
              "\n",
              "    .dataframe thead th {\n",
              "        text-align: right;\n",
              "    }\n",
              "</style>\n",
              "<table border=\"1\" class=\"dataframe\">\n",
              "  <thead>\n",
              "    <tr style=\"text-align: right;\">\n",
              "      <th></th>\n",
              "      <th>ID</th>\n",
              "      <th>join_date</th>\n",
              "      <th>sex</th>\n",
              "      <th>marital_status</th>\n",
              "      <th>birth_year</th>\n",
              "      <th>branch_code</th>\n",
              "      <th>occupation_code</th>\n",
              "      <th>occupation_category_code</th>\n",
              "      <th>variable</th>\n",
              "      <th>value</th>\n",
              "    </tr>\n",
              "  </thead>\n",
              "  <tbody>\n",
              "    <tr>\n",
              "      <th>0</th>\n",
              "      <td>4WKQSBB</td>\n",
              "      <td>1/2/2019</td>\n",
              "      <td>F</td>\n",
              "      <td>M</td>\n",
              "      <td>1987</td>\n",
              "      <td>1X1H</td>\n",
              "      <td>2A7I</td>\n",
              "      <td>T4MS</td>\n",
              "      <td>P5DA</td>\n",
              "      <td>0</td>\n",
              "    </tr>\n",
              "    <tr>\n",
              "      <th>1</th>\n",
              "      <td>CP5S02H</td>\n",
              "      <td>1/6/2019</td>\n",
              "      <td>F</td>\n",
              "      <td>M</td>\n",
              "      <td>1981</td>\n",
              "      <td>UAOD</td>\n",
              "      <td>2A7I</td>\n",
              "      <td>T4MS</td>\n",
              "      <td>P5DA</td>\n",
              "      <td>0</td>\n",
              "    </tr>\n",
              "    <tr>\n",
              "      <th>2</th>\n",
              "      <td>2YKDILJ</td>\n",
              "      <td>1/6/2013</td>\n",
              "      <td>M</td>\n",
              "      <td>U</td>\n",
              "      <td>1991</td>\n",
              "      <td>748L</td>\n",
              "      <td>QZYX</td>\n",
              "      <td>90QI</td>\n",
              "      <td>P5DA</td>\n",
              "      <td>0</td>\n",
              "    </tr>\n",
              "    <tr>\n",
              "      <th>3</th>\n",
              "      <td>2S9E81J</td>\n",
              "      <td>1/8/2019</td>\n",
              "      <td>M</td>\n",
              "      <td>M</td>\n",
              "      <td>1990</td>\n",
              "      <td>1X1H</td>\n",
              "      <td>BP09</td>\n",
              "      <td>56SI</td>\n",
              "      <td>P5DA</td>\n",
              "      <td>0</td>\n",
              "    </tr>\n",
              "    <tr>\n",
              "      <th>4</th>\n",
              "      <td>BHDYVFT</td>\n",
              "      <td>1/8/2019</td>\n",
              "      <td>M</td>\n",
              "      <td>M</td>\n",
              "      <td>1990</td>\n",
              "      <td>748L</td>\n",
              "      <td>NO3L</td>\n",
              "      <td>T4MS</td>\n",
              "      <td>P5DA</td>\n",
              "      <td>0</td>\n",
              "    </tr>\n",
              "  </tbody>\n",
              "</table>\n",
              "</div>"
            ],
            "text/plain": [
              "        ID join_date sex  ... occupation_category_code  variable value\n",
              "0  4WKQSBB  1/2/2019   F  ...                     T4MS      P5DA     0\n",
              "1  CP5S02H  1/6/2019   F  ...                     T4MS      P5DA     0\n",
              "2  2YKDILJ  1/6/2013   M  ...                     90QI      P5DA     0\n",
              "3  2S9E81J  1/8/2019   M  ...                     56SI      P5DA     0\n",
              "4  BHDYVFT  1/8/2019   M  ...                     T4MS      P5DA     0\n",
              "\n",
              "[5 rows x 10 columns]"
            ]
          },
          "metadata": {
            "tags": []
          },
          "execution_count": 6
        }
      ]
    },
    {
      "cell_type": "code",
      "metadata": {
        "id": "68PwdBKhV6x3",
        "colab_type": "code",
        "colab": {
          "base_uri": "https://localhost:8080/",
          "height": 143
        },
        "outputId": "f7ff0d6d-6d3c-45a8-8f2e-dbebb0991e77"
      },
      "source": [
        "features = pd.concat([n_train, n_test])\n",
        "features.rename(columns={'variable':'product','value':'Label'}, inplace=True)\n",
        "features['ID X PCODE'] = features['ID'] + ' X ' + features['product']\n",
        "features = features.drop(['ID'], axis = 1)\n",
        "features.tail(3)"
      ],
      "execution_count": 7,
      "outputs": [
        {
          "output_type": "execute_result",
          "data": {
            "text/html": [
              "<div>\n",
              "<style scoped>\n",
              "    .dataframe tbody tr th:only-of-type {\n",
              "        vertical-align: middle;\n",
              "    }\n",
              "\n",
              "    .dataframe tbody tr th {\n",
              "        vertical-align: top;\n",
              "    }\n",
              "\n",
              "    .dataframe thead th {\n",
              "        text-align: right;\n",
              "    }\n",
              "</style>\n",
              "<table border=\"1\" class=\"dataframe\">\n",
              "  <thead>\n",
              "    <tr style=\"text-align: right;\">\n",
              "      <th></th>\n",
              "      <th>join_date</th>\n",
              "      <th>sex</th>\n",
              "      <th>marital_status</th>\n",
              "      <th>birth_year</th>\n",
              "      <th>branch_code</th>\n",
              "      <th>occupation_code</th>\n",
              "      <th>occupation_category_code</th>\n",
              "      <th>product</th>\n",
              "      <th>Label</th>\n",
              "      <th>ID X PCODE</th>\n",
              "    </tr>\n",
              "  </thead>\n",
              "  <tbody>\n",
              "    <tr>\n",
              "      <th>209997</th>\n",
              "      <td>1/4/2018</td>\n",
              "      <td>M</td>\n",
              "      <td>M</td>\n",
              "      <td>1993</td>\n",
              "      <td>748L</td>\n",
              "      <td>SST3</td>\n",
              "      <td>56SI</td>\n",
              "      <td>ECY3</td>\n",
              "      <td>0</td>\n",
              "      <td>42WTEGT X ECY3</td>\n",
              "    </tr>\n",
              "    <tr>\n",
              "      <th>209998</th>\n",
              "      <td>1/5/2015</td>\n",
              "      <td>F</td>\n",
              "      <td>U</td>\n",
              "      <td>1981</td>\n",
              "      <td>49BM</td>\n",
              "      <td>2A7I</td>\n",
              "      <td>T4MS</td>\n",
              "      <td>ECY3</td>\n",
              "      <td>0</td>\n",
              "      <td>8EKC4O9 X ECY3</td>\n",
              "    </tr>\n",
              "    <tr>\n",
              "      <th>209999</th>\n",
              "      <td>1/11/2018</td>\n",
              "      <td>M</td>\n",
              "      <td>U</td>\n",
              "      <td>1977</td>\n",
              "      <td>94KC</td>\n",
              "      <td>2A7I</td>\n",
              "      <td>T4MS</td>\n",
              "      <td>ECY3</td>\n",
              "      <td>0</td>\n",
              "      <td>WHII93K X ECY3</td>\n",
              "    </tr>\n",
              "  </tbody>\n",
              "</table>\n",
              "</div>"
            ],
            "text/plain": [
              "        join_date sex marital_status  ...  product Label      ID X PCODE\n",
              "209997   1/4/2018   M              M  ...     ECY3     0  42WTEGT X ECY3\n",
              "209998   1/5/2015   F              U  ...     ECY3     0  8EKC4O9 X ECY3\n",
              "209999  1/11/2018   M              U  ...     ECY3     0  WHII93K X ECY3\n",
              "\n",
              "[3 rows x 10 columns]"
            ]
          },
          "metadata": {
            "tags": []
          },
          "execution_count": 7
        }
      ]
    },
    {
      "cell_type": "markdown",
      "metadata": {
        "id": "pUifafOBf1Ox",
        "colab_type": "text"
      },
      "source": [
        "### Null values"
      ]
    },
    {
      "cell_type": "code",
      "metadata": {
        "id": "o6DTTprYYLRz",
        "colab_type": "code",
        "colab": {
          "base_uri": "https://localhost:8080/",
          "height": 208
        },
        "outputId": "b206f6d0-219f-424e-b71a-1bdd2a05b0b6"
      },
      "source": [
        "features.isna().sum()"
      ],
      "execution_count": 9,
      "outputs": [
        {
          "output_type": "execute_result",
          "data": {
            "text/plain": [
              "join_date                   63\n",
              "sex                          0\n",
              "marital_status               0\n",
              "birth_year                   0\n",
              "branch_code                  0\n",
              "occupation_code              0\n",
              "occupation_category_code     0\n",
              "product                      0\n",
              "Label                        0\n",
              "ID X PCODE                   0\n",
              "dtype: int64"
            ]
          },
          "metadata": {
            "tags": []
          },
          "execution_count": 9
        }
      ]
    },
    {
      "cell_type": "code",
      "metadata": {
        "id": "7388hnTyr7Gk",
        "colab_type": "code",
        "colab": {
          "base_uri": "https://localhost:8080/",
          "height": 208
        },
        "outputId": "d2cc1687-2ebe-4a0c-c386-a7cb42f3b03c"
      },
      "source": [
        "imputer = SimpleImputer(strategy = 'most_frequent')\n",
        "x = features['join_date'].values\n",
        "x = x.reshape(-1,1)\n",
        "features['join_date'] = imputer.fit_transform(x)\n",
        "features.isna().sum()"
      ],
      "execution_count": 11,
      "outputs": [
        {
          "output_type": "execute_result",
          "data": {
            "text/plain": [
              "join_date                   0\n",
              "sex                         0\n",
              "marital_status              0\n",
              "birth_year                  0\n",
              "branch_code                 0\n",
              "occupation_code             0\n",
              "occupation_category_code    0\n",
              "product                     0\n",
              "Label                       0\n",
              "ID X PCODE                  0\n",
              "dtype: int64"
            ]
          },
          "metadata": {
            "tags": []
          },
          "execution_count": 11
        }
      ]
    },
    {
      "cell_type": "code",
      "metadata": {
        "id": "ElzPwf0ysShV",
        "colab_type": "code",
        "colab": {}
      },
      "source": [
        "features_back = features.copy()"
      ],
      "execution_count": 12,
      "outputs": []
    },
    {
      "cell_type": "markdown",
      "metadata": {
        "id": "ULydMfnHkemS",
        "colab_type": "text"
      },
      "source": [
        "### Categorical cols encoding"
      ]
    },
    {
      "cell_type": "code",
      "metadata": {
        "id": "RDTj7W1Mkg0O",
        "colab_type": "code",
        "colab": {
          "base_uri": "https://localhost:8080/",
          "height": 206
        },
        "outputId": "6b518124-84eb-433a-a972-7e23aee2ae2b"
      },
      "source": [
        "from sklearn.preprocessing import LabelEncoder\n",
        "encoder = LabelEncoder()\n",
        "cat_df = features[['sex', 'marital_status', 'branch_code', 'occupation_code', 'occupation_category_code', 'product']]\n",
        "cat_df = cat_df.apply(LabelEncoder().fit_transform)\n",
        "cat_df.head()\n",
        "\n",
        "# from sklearn.preprocessing import LabelEncoder\n",
        "# encoder = LabelEncoder()\n",
        "# cat_df = features[['product']]\n",
        "# cat_df = cat_df.apply(LabelEncoder().fit_transform)\n",
        "# cat_df.head()"
      ],
      "execution_count": 13,
      "outputs": [
        {
          "output_type": "execute_result",
          "data": {
            "text/html": [
              "<div>\n",
              "<style scoped>\n",
              "    .dataframe tbody tr th:only-of-type {\n",
              "        vertical-align: middle;\n",
              "    }\n",
              "\n",
              "    .dataframe tbody tr th {\n",
              "        vertical-align: top;\n",
              "    }\n",
              "\n",
              "    .dataframe thead th {\n",
              "        text-align: right;\n",
              "    }\n",
              "</style>\n",
              "<table border=\"1\" class=\"dataframe\">\n",
              "  <thead>\n",
              "    <tr style=\"text-align: right;\">\n",
              "      <th></th>\n",
              "      <th>sex</th>\n",
              "      <th>marital_status</th>\n",
              "      <th>branch_code</th>\n",
              "      <th>occupation_code</th>\n",
              "      <th>occupation_category_code</th>\n",
              "      <th>product</th>\n",
              "    </tr>\n",
              "  </thead>\n",
              "  <tbody>\n",
              "    <tr>\n",
              "      <th>0</th>\n",
              "      <td>0</td>\n",
              "      <td>2</td>\n",
              "      <td>0</td>\n",
              "      <td>19</td>\n",
              "      <td>5</td>\n",
              "      <td>15</td>\n",
              "    </tr>\n",
              "    <tr>\n",
              "      <th>1</th>\n",
              "      <td>0</td>\n",
              "      <td>2</td>\n",
              "      <td>11</td>\n",
              "      <td>19</td>\n",
              "      <td>5</td>\n",
              "      <td>15</td>\n",
              "    </tr>\n",
              "    <tr>\n",
              "      <th>2</th>\n",
              "      <td>1</td>\n",
              "      <td>6</td>\n",
              "      <td>3</td>\n",
              "      <td>185</td>\n",
              "      <td>1</td>\n",
              "      <td>15</td>\n",
              "    </tr>\n",
              "    <tr>\n",
              "      <th>3</th>\n",
              "      <td>1</td>\n",
              "      <td>2</td>\n",
              "      <td>0</td>\n",
              "      <td>82</td>\n",
              "      <td>0</td>\n",
              "      <td>15</td>\n",
              "    </tr>\n",
              "    <tr>\n",
              "      <th>4</th>\n",
              "      <td>1</td>\n",
              "      <td>2</td>\n",
              "      <td>3</td>\n",
              "      <td>157</td>\n",
              "      <td>5</td>\n",
              "      <td>15</td>\n",
              "    </tr>\n",
              "  </tbody>\n",
              "</table>\n",
              "</div>"
            ],
            "text/plain": [
              "   sex  marital_status  ...  occupation_category_code  product\n",
              "0    0               2  ...                         5       15\n",
              "1    0               2  ...                         5       15\n",
              "2    1               6  ...                         1       15\n",
              "3    1               2  ...                         0       15\n",
              "4    1               2  ...                         5       15\n",
              "\n",
              "[5 rows x 6 columns]"
            ]
          },
          "metadata": {
            "tags": []
          },
          "execution_count": 13
        }
      ]
    },
    {
      "cell_type": "code",
      "metadata": {
        "id": "LUiRrCux9gc9",
        "colab_type": "code",
        "colab": {
          "base_uri": "https://localhost:8080/",
          "height": 143
        },
        "outputId": "e8c1503f-504e-486a-cc80-2b2536fbef58"
      },
      "source": [
        "features['sex'] = cat_df['sex']\n",
        "features['marital_status'] = cat_df['marital_status']\n",
        "features['branch_code'] = cat_df['branch_code']\n",
        "features['occupation_code'] = cat_df['occupation_code']\n",
        "features['occupation_category_code'] = cat_df['occupation_category_code']\n",
        "features['product'] = cat_df['product']\n",
        "features.head(3)"
      ],
      "execution_count": 14,
      "outputs": [
        {
          "output_type": "execute_result",
          "data": {
            "text/html": [
              "<div>\n",
              "<style scoped>\n",
              "    .dataframe tbody tr th:only-of-type {\n",
              "        vertical-align: middle;\n",
              "    }\n",
              "\n",
              "    .dataframe tbody tr th {\n",
              "        vertical-align: top;\n",
              "    }\n",
              "\n",
              "    .dataframe thead th {\n",
              "        text-align: right;\n",
              "    }\n",
              "</style>\n",
              "<table border=\"1\" class=\"dataframe\">\n",
              "  <thead>\n",
              "    <tr style=\"text-align: right;\">\n",
              "      <th></th>\n",
              "      <th>join_date</th>\n",
              "      <th>sex</th>\n",
              "      <th>marital_status</th>\n",
              "      <th>birth_year</th>\n",
              "      <th>branch_code</th>\n",
              "      <th>occupation_code</th>\n",
              "      <th>occupation_category_code</th>\n",
              "      <th>product</th>\n",
              "      <th>Label</th>\n",
              "      <th>ID X PCODE</th>\n",
              "    </tr>\n",
              "  </thead>\n",
              "  <tbody>\n",
              "    <tr>\n",
              "      <th>0</th>\n",
              "      <td>1/2/2019</td>\n",
              "      <td>0</td>\n",
              "      <td>2</td>\n",
              "      <td>1987</td>\n",
              "      <td>0</td>\n",
              "      <td>19</td>\n",
              "      <td>5</td>\n",
              "      <td>15</td>\n",
              "      <td>0</td>\n",
              "      <td>4WKQSBB X P5DA</td>\n",
              "    </tr>\n",
              "    <tr>\n",
              "      <th>1</th>\n",
              "      <td>1/6/2019</td>\n",
              "      <td>0</td>\n",
              "      <td>2</td>\n",
              "      <td>1981</td>\n",
              "      <td>11</td>\n",
              "      <td>19</td>\n",
              "      <td>5</td>\n",
              "      <td>15</td>\n",
              "      <td>0</td>\n",
              "      <td>CP5S02H X P5DA</td>\n",
              "    </tr>\n",
              "    <tr>\n",
              "      <th>2</th>\n",
              "      <td>1/6/2013</td>\n",
              "      <td>1</td>\n",
              "      <td>6</td>\n",
              "      <td>1991</td>\n",
              "      <td>3</td>\n",
              "      <td>185</td>\n",
              "      <td>1</td>\n",
              "      <td>15</td>\n",
              "      <td>0</td>\n",
              "      <td>2YKDILJ X P5DA</td>\n",
              "    </tr>\n",
              "  </tbody>\n",
              "</table>\n",
              "</div>"
            ],
            "text/plain": [
              "  join_date  sex  marital_status  ...  product  Label      ID X PCODE\n",
              "0  1/2/2019    0               2  ...       15      0  4WKQSBB X P5DA\n",
              "1  1/6/2019    0               2  ...       15      0  CP5S02H X P5DA\n",
              "2  1/6/2013    1               6  ...       15      0  2YKDILJ X P5DA\n",
              "\n",
              "[3 rows x 10 columns]"
            ]
          },
          "metadata": {
            "tags": []
          },
          "execution_count": 14
        }
      ]
    },
    {
      "cell_type": "code",
      "metadata": {
        "id": "-MpO5Oty6iz4",
        "colab_type": "code",
        "colab": {}
      },
      "source": [
        "# features = pd.get_dummies(features, columns = ['sex', 'marital_status', 'branch_code', 'occupation_code', 'occupation_category_code'], drop_first=True)"
      ],
      "execution_count": null,
      "outputs": []
    },
    {
      "cell_type": "markdown",
      "metadata": {
        "id": "m_WWk-rukg9Z",
        "colab_type": "text"
      },
      "source": [
        "### Feature Generation"
      ]
    },
    {
      "cell_type": "code",
      "metadata": {
        "id": "iet6C4VgklDr",
        "colab_type": "code",
        "colab": {
          "base_uri": "https://localhost:8080/",
          "height": 330
        },
        "outputId": "9c6d1854-c6d1-4b41-a8eb-4981851b1a1d"
      },
      "source": [
        "features['join_date'] = pd.to_datetime(features['join_date'])\n",
        "# features['birth_year'] = pd.to_datetime(features['birth_year'])\n",
        "\n",
        "features['Month'] = features.join_date.dt.month.to_list()\n",
        "features['Year'] = features.join_date.dt.year.to_list()\n",
        "features['Day'] = features.join_date.dt.day.to_list()\n",
        "features['DayOfWeek'] = features.join_date.dt.dayofweek.to_list()\n",
        "\n",
        "features['yrs_spent'] = 2020 - features['Year']\n",
        "features['age'] = features['Year'] - features['birth_year']\n",
        "features = features.drop(['join_date'], axis = 1)\n",
        "\n",
        "\n",
        "\n",
        "# features['year_bins'] = pd.qcut(features['Year'], 5, labels = False)\n",
        "features.head()\n",
        "\n",
        "## add number of yrs spent (now - join date)"
      ],
      "execution_count": 15,
      "outputs": [
        {
          "output_type": "execute_result",
          "data": {
            "text/html": [
              "<div>\n",
              "<style scoped>\n",
              "    .dataframe tbody tr th:only-of-type {\n",
              "        vertical-align: middle;\n",
              "    }\n",
              "\n",
              "    .dataframe tbody tr th {\n",
              "        vertical-align: top;\n",
              "    }\n",
              "\n",
              "    .dataframe thead th {\n",
              "        text-align: right;\n",
              "    }\n",
              "</style>\n",
              "<table border=\"1\" class=\"dataframe\">\n",
              "  <thead>\n",
              "    <tr style=\"text-align: right;\">\n",
              "      <th></th>\n",
              "      <th>sex</th>\n",
              "      <th>marital_status</th>\n",
              "      <th>birth_year</th>\n",
              "      <th>branch_code</th>\n",
              "      <th>occupation_code</th>\n",
              "      <th>occupation_category_code</th>\n",
              "      <th>product</th>\n",
              "      <th>Label</th>\n",
              "      <th>ID X PCODE</th>\n",
              "      <th>Month</th>\n",
              "      <th>Year</th>\n",
              "      <th>Day</th>\n",
              "      <th>DayOfWeek</th>\n",
              "      <th>yrs_spent</th>\n",
              "      <th>age</th>\n",
              "    </tr>\n",
              "  </thead>\n",
              "  <tbody>\n",
              "    <tr>\n",
              "      <th>0</th>\n",
              "      <td>0</td>\n",
              "      <td>2</td>\n",
              "      <td>1987</td>\n",
              "      <td>0</td>\n",
              "      <td>19</td>\n",
              "      <td>5</td>\n",
              "      <td>15</td>\n",
              "      <td>0</td>\n",
              "      <td>4WKQSBB X P5DA</td>\n",
              "      <td>1</td>\n",
              "      <td>2019</td>\n",
              "      <td>2</td>\n",
              "      <td>2</td>\n",
              "      <td>1</td>\n",
              "      <td>32</td>\n",
              "    </tr>\n",
              "    <tr>\n",
              "      <th>1</th>\n",
              "      <td>0</td>\n",
              "      <td>2</td>\n",
              "      <td>1981</td>\n",
              "      <td>11</td>\n",
              "      <td>19</td>\n",
              "      <td>5</td>\n",
              "      <td>15</td>\n",
              "      <td>0</td>\n",
              "      <td>CP5S02H X P5DA</td>\n",
              "      <td>1</td>\n",
              "      <td>2019</td>\n",
              "      <td>6</td>\n",
              "      <td>6</td>\n",
              "      <td>1</td>\n",
              "      <td>38</td>\n",
              "    </tr>\n",
              "    <tr>\n",
              "      <th>2</th>\n",
              "      <td>1</td>\n",
              "      <td>6</td>\n",
              "      <td>1991</td>\n",
              "      <td>3</td>\n",
              "      <td>185</td>\n",
              "      <td>1</td>\n",
              "      <td>15</td>\n",
              "      <td>0</td>\n",
              "      <td>2YKDILJ X P5DA</td>\n",
              "      <td>1</td>\n",
              "      <td>2013</td>\n",
              "      <td>6</td>\n",
              "      <td>6</td>\n",
              "      <td>7</td>\n",
              "      <td>22</td>\n",
              "    </tr>\n",
              "    <tr>\n",
              "      <th>3</th>\n",
              "      <td>1</td>\n",
              "      <td>2</td>\n",
              "      <td>1990</td>\n",
              "      <td>0</td>\n",
              "      <td>82</td>\n",
              "      <td>0</td>\n",
              "      <td>15</td>\n",
              "      <td>0</td>\n",
              "      <td>2S9E81J X P5DA</td>\n",
              "      <td>1</td>\n",
              "      <td>2019</td>\n",
              "      <td>8</td>\n",
              "      <td>1</td>\n",
              "      <td>1</td>\n",
              "      <td>29</td>\n",
              "    </tr>\n",
              "    <tr>\n",
              "      <th>4</th>\n",
              "      <td>1</td>\n",
              "      <td>2</td>\n",
              "      <td>1990</td>\n",
              "      <td>3</td>\n",
              "      <td>157</td>\n",
              "      <td>5</td>\n",
              "      <td>15</td>\n",
              "      <td>0</td>\n",
              "      <td>BHDYVFT X P5DA</td>\n",
              "      <td>1</td>\n",
              "      <td>2019</td>\n",
              "      <td>8</td>\n",
              "      <td>1</td>\n",
              "      <td>1</td>\n",
              "      <td>29</td>\n",
              "    </tr>\n",
              "  </tbody>\n",
              "</table>\n",
              "</div>"
            ],
            "text/plain": [
              "   sex  marital_status  birth_year  branch_code  ...  Day  DayOfWeek  yrs_spent  age\n",
              "0    0               2        1987            0  ...    2          2          1   32\n",
              "1    0               2        1981           11  ...    6          6          1   38\n",
              "2    1               6        1991            3  ...    6          6          7   22\n",
              "3    1               2        1990            0  ...    8          1          1   29\n",
              "4    1               2        1990            3  ...    8          1          1   29\n",
              "\n",
              "[5 rows x 15 columns]"
            ]
          },
          "metadata": {
            "tags": []
          },
          "execution_count": 15
        }
      ]
    },
    {
      "cell_type": "markdown",
      "metadata": {
        "id": "Xz_DtIPuBhSb",
        "colab_type": "text"
      },
      "source": [
        "### Scaling Numerical Features"
      ]
    },
    {
      "cell_type": "code",
      "metadata": {
        "id": "TNOuPiQxBj0v",
        "colab_type": "code",
        "colab": {
          "base_uri": "https://localhost:8080/",
          "height": 330
        },
        "outputId": "b536320f-31ab-4574-b968-031f1b7b04eb"
      },
      "source": [
        "from sklearn.preprocessing import StandardScaler\n",
        "\n",
        "indices = [2, 9,10,11,12,13]\n",
        "# indices = [-1,-2,-3,-4,-5,0]\n",
        "for col in indices:\n",
        "    x = features.iloc[:, col].values\n",
        "    x = x.reshape(-1,1)\n",
        "    imputer = StandardScaler()\n",
        "    imputer = imputer.fit(x)\n",
        "    x = imputer.transform(x)\n",
        "    features.iloc[:, col] = x \n",
        "\n",
        "features.head()"
      ],
      "execution_count": 16,
      "outputs": [
        {
          "output_type": "execute_result",
          "data": {
            "text/html": [
              "<div>\n",
              "<style scoped>\n",
              "    .dataframe tbody tr th:only-of-type {\n",
              "        vertical-align: middle;\n",
              "    }\n",
              "\n",
              "    .dataframe tbody tr th {\n",
              "        vertical-align: top;\n",
              "    }\n",
              "\n",
              "    .dataframe thead th {\n",
              "        text-align: right;\n",
              "    }\n",
              "</style>\n",
              "<table border=\"1\" class=\"dataframe\">\n",
              "  <thead>\n",
              "    <tr style=\"text-align: right;\">\n",
              "      <th></th>\n",
              "      <th>sex</th>\n",
              "      <th>marital_status</th>\n",
              "      <th>birth_year</th>\n",
              "      <th>branch_code</th>\n",
              "      <th>occupation_code</th>\n",
              "      <th>occupation_category_code</th>\n",
              "      <th>product</th>\n",
              "      <th>Label</th>\n",
              "      <th>ID X PCODE</th>\n",
              "      <th>Month</th>\n",
              "      <th>Year</th>\n",
              "      <th>Day</th>\n",
              "      <th>DayOfWeek</th>\n",
              "      <th>yrs_spent</th>\n",
              "      <th>age</th>\n",
              "    </tr>\n",
              "  </thead>\n",
              "  <tbody>\n",
              "    <tr>\n",
              "      <th>0</th>\n",
              "      <td>0</td>\n",
              "      <td>2</td>\n",
              "      <td>0.798014</td>\n",
              "      <td>0</td>\n",
              "      <td>19</td>\n",
              "      <td>5</td>\n",
              "      <td>15</td>\n",
              "      <td>0</td>\n",
              "      <td>4WKQSBB X P5DA</td>\n",
              "      <td>-0.016615</td>\n",
              "      <td>0.667606</td>\n",
              "      <td>-1.305881</td>\n",
              "      <td>-0.543796</td>\n",
              "      <td>-0.667606</td>\n",
              "      <td>32</td>\n",
              "    </tr>\n",
              "    <tr>\n",
              "      <th>1</th>\n",
              "      <td>0</td>\n",
              "      <td>2</td>\n",
              "      <td>0.154357</td>\n",
              "      <td>11</td>\n",
              "      <td>19</td>\n",
              "      <td>5</td>\n",
              "      <td>15</td>\n",
              "      <td>0</td>\n",
              "      <td>CP5S02H X P5DA</td>\n",
              "      <td>-0.016615</td>\n",
              "      <td>0.667606</td>\n",
              "      <td>-0.106598</td>\n",
              "      <td>1.600268</td>\n",
              "      <td>-0.667606</td>\n",
              "      <td>38</td>\n",
              "    </tr>\n",
              "    <tr>\n",
              "      <th>2</th>\n",
              "      <td>1</td>\n",
              "      <td>6</td>\n",
              "      <td>1.227118</td>\n",
              "      <td>3</td>\n",
              "      <td>185</td>\n",
              "      <td>1</td>\n",
              "      <td>15</td>\n",
              "      <td>0</td>\n",
              "      <td>2YKDILJ X P5DA</td>\n",
              "      <td>-0.016615</td>\n",
              "      <td>-2.459298</td>\n",
              "      <td>-0.106598</td>\n",
              "      <td>1.600268</td>\n",
              "      <td>2.459298</td>\n",
              "      <td>22</td>\n",
              "    </tr>\n",
              "    <tr>\n",
              "      <th>3</th>\n",
              "      <td>1</td>\n",
              "      <td>2</td>\n",
              "      <td>1.119842</td>\n",
              "      <td>0</td>\n",
              "      <td>82</td>\n",
              "      <td>0</td>\n",
              "      <td>15</td>\n",
              "      <td>0</td>\n",
              "      <td>2S9E81J X P5DA</td>\n",
              "      <td>-0.016615</td>\n",
              "      <td>0.667606</td>\n",
              "      <td>0.493043</td>\n",
              "      <td>-1.079813</td>\n",
              "      <td>-0.667606</td>\n",
              "      <td>29</td>\n",
              "    </tr>\n",
              "    <tr>\n",
              "      <th>4</th>\n",
              "      <td>1</td>\n",
              "      <td>2</td>\n",
              "      <td>1.119842</td>\n",
              "      <td>3</td>\n",
              "      <td>157</td>\n",
              "      <td>5</td>\n",
              "      <td>15</td>\n",
              "      <td>0</td>\n",
              "      <td>BHDYVFT X P5DA</td>\n",
              "      <td>-0.016615</td>\n",
              "      <td>0.667606</td>\n",
              "      <td>0.493043</td>\n",
              "      <td>-1.079813</td>\n",
              "      <td>-0.667606</td>\n",
              "      <td>29</td>\n",
              "    </tr>\n",
              "  </tbody>\n",
              "</table>\n",
              "</div>"
            ],
            "text/plain": [
              "   sex  marital_status  birth_year  ...  DayOfWeek  yrs_spent  age\n",
              "0    0               2    0.798014  ...  -0.543796  -0.667606   32\n",
              "1    0               2    0.154357  ...   1.600268  -0.667606   38\n",
              "2    1               6    1.227118  ...   1.600268   2.459298   22\n",
              "3    1               2    1.119842  ...  -1.079813  -0.667606   29\n",
              "4    1               2    1.119842  ...  -1.079813  -0.667606   29\n",
              "\n",
              "[5 rows x 15 columns]"
            ]
          },
          "metadata": {
            "tags": []
          },
          "execution_count": 16
        }
      ]
    },
    {
      "cell_type": "code",
      "metadata": {
        "id": "juW_m5yp19Sm",
        "colab_type": "code",
        "colab": {
          "base_uri": "https://localhost:8080/",
          "height": 330
        },
        "outputId": "28b6538c-b5e7-4be5-a377-de9d49fe46f4"
      },
      "source": [
        "features['day_bins'] = pd.qcut(features['Day'], 4, labels = False)\n",
        "features.head()"
      ],
      "execution_count": 22,
      "outputs": [
        {
          "output_type": "execute_result",
          "data": {
            "text/html": [
              "<div>\n",
              "<style scoped>\n",
              "    .dataframe tbody tr th:only-of-type {\n",
              "        vertical-align: middle;\n",
              "    }\n",
              "\n",
              "    .dataframe tbody tr th {\n",
              "        vertical-align: top;\n",
              "    }\n",
              "\n",
              "    .dataframe thead th {\n",
              "        text-align: right;\n",
              "    }\n",
              "</style>\n",
              "<table border=\"1\" class=\"dataframe\">\n",
              "  <thead>\n",
              "    <tr style=\"text-align: right;\">\n",
              "      <th></th>\n",
              "      <th>sex</th>\n",
              "      <th>marital_status</th>\n",
              "      <th>birth_year</th>\n",
              "      <th>branch_code</th>\n",
              "      <th>occupation_code</th>\n",
              "      <th>occupation_category_code</th>\n",
              "      <th>product</th>\n",
              "      <th>Label</th>\n",
              "      <th>ID X PCODE</th>\n",
              "      <th>Month</th>\n",
              "      <th>Year</th>\n",
              "      <th>Day</th>\n",
              "      <th>DayOfWeek</th>\n",
              "      <th>yrs_spent</th>\n",
              "      <th>age</th>\n",
              "      <th>day_bins</th>\n",
              "    </tr>\n",
              "  </thead>\n",
              "  <tbody>\n",
              "    <tr>\n",
              "      <th>0</th>\n",
              "      <td>0</td>\n",
              "      <td>2</td>\n",
              "      <td>0.798014</td>\n",
              "      <td>0</td>\n",
              "      <td>19</td>\n",
              "      <td>5</td>\n",
              "      <td>15</td>\n",
              "      <td>0</td>\n",
              "      <td>4WKQSBB X P5DA</td>\n",
              "      <td>-0.016615</td>\n",
              "      <td>0.667606</td>\n",
              "      <td>-1.305881</td>\n",
              "      <td>-0.543796</td>\n",
              "      <td>-0.667606</td>\n",
              "      <td>32</td>\n",
              "      <td>0</td>\n",
              "    </tr>\n",
              "    <tr>\n",
              "      <th>1</th>\n",
              "      <td>0</td>\n",
              "      <td>2</td>\n",
              "      <td>0.154357</td>\n",
              "      <td>11</td>\n",
              "      <td>19</td>\n",
              "      <td>5</td>\n",
              "      <td>15</td>\n",
              "      <td>0</td>\n",
              "      <td>CP5S02H X P5DA</td>\n",
              "      <td>-0.016615</td>\n",
              "      <td>0.667606</td>\n",
              "      <td>-0.106598</td>\n",
              "      <td>1.600268</td>\n",
              "      <td>-0.667606</td>\n",
              "      <td>38</td>\n",
              "      <td>1</td>\n",
              "    </tr>\n",
              "    <tr>\n",
              "      <th>2</th>\n",
              "      <td>1</td>\n",
              "      <td>6</td>\n",
              "      <td>1.227118</td>\n",
              "      <td>3</td>\n",
              "      <td>185</td>\n",
              "      <td>1</td>\n",
              "      <td>15</td>\n",
              "      <td>0</td>\n",
              "      <td>2YKDILJ X P5DA</td>\n",
              "      <td>-0.016615</td>\n",
              "      <td>-2.459298</td>\n",
              "      <td>-0.106598</td>\n",
              "      <td>1.600268</td>\n",
              "      <td>2.459298</td>\n",
              "      <td>22</td>\n",
              "      <td>1</td>\n",
              "    </tr>\n",
              "    <tr>\n",
              "      <th>3</th>\n",
              "      <td>1</td>\n",
              "      <td>2</td>\n",
              "      <td>1.119842</td>\n",
              "      <td>0</td>\n",
              "      <td>82</td>\n",
              "      <td>0</td>\n",
              "      <td>15</td>\n",
              "      <td>0</td>\n",
              "      <td>2S9E81J X P5DA</td>\n",
              "      <td>-0.016615</td>\n",
              "      <td>0.667606</td>\n",
              "      <td>0.493043</td>\n",
              "      <td>-1.079813</td>\n",
              "      <td>-0.667606</td>\n",
              "      <td>29</td>\n",
              "      <td>2</td>\n",
              "    </tr>\n",
              "    <tr>\n",
              "      <th>4</th>\n",
              "      <td>1</td>\n",
              "      <td>2</td>\n",
              "      <td>1.119842</td>\n",
              "      <td>3</td>\n",
              "      <td>157</td>\n",
              "      <td>5</td>\n",
              "      <td>15</td>\n",
              "      <td>0</td>\n",
              "      <td>BHDYVFT X P5DA</td>\n",
              "      <td>-0.016615</td>\n",
              "      <td>0.667606</td>\n",
              "      <td>0.493043</td>\n",
              "      <td>-1.079813</td>\n",
              "      <td>-0.667606</td>\n",
              "      <td>29</td>\n",
              "      <td>2</td>\n",
              "    </tr>\n",
              "  </tbody>\n",
              "</table>\n",
              "</div>"
            ],
            "text/plain": [
              "   sex  marital_status  birth_year  ...  yrs_spent  age  day_bins\n",
              "0    0               2    0.798014  ...  -0.667606   32         0\n",
              "1    0               2    0.154357  ...  -0.667606   38         1\n",
              "2    1               6    1.227118  ...   2.459298   22         1\n",
              "3    1               2    1.119842  ...  -0.667606   29         2\n",
              "4    1               2    1.119842  ...  -0.667606   29         2\n",
              "\n",
              "[5 rows x 16 columns]"
            ]
          },
          "metadata": {
            "tags": []
          },
          "execution_count": 22
        }
      ]
    },
    {
      "cell_type": "code",
      "metadata": {
        "id": "04vMn5if1MlV",
        "colab_type": "code",
        "colab": {
          "base_uri": "https://localhost:8080/",
          "height": 379
        },
        "outputId": "ceaa1269-5c72-42c3-fbc8-f4ae47a69116"
      },
      "source": [
        "corr_data = features[['birth_year', 'Month', 'Year', 'Day', 'DayOfWeek', 'age', 'yrs_spent']]\n",
        "corr = corr_data.corr()\n",
        "f_fig, f_ax = plt.subplots(figsize=(8, 6))\n",
        "f_ax = sns.heatmap(corr, vmin=0, vmax=1, square=True,\n",
        "                   annot=False, annot_kws={\"size\": 10}, cmap=\"BuPu\")"
      ],
      "execution_count": 23,
      "outputs": [
        {
          "output_type": "display_data",
          "data": {
            "image/png": "[encoded data removed]",
            "text/plain": [
              "<Figure size 576x432 with 2 Axes>"
            ]
          },
          "metadata": {
            "tags": [],
            "needs_background": "light"
          }
        }
      ]
    },
    {
      "cell_type": "markdown",
      "metadata": {
        "id": "gSRNP80D3cPK",
        "colab_type": "text"
      },
      "source": [
        "No multicolinearity alarms."
      ]
    },
    {
      "cell_type": "markdown",
      "metadata": {
        "id": "OQcRVSGqDVCA",
        "colab_type": "text"
      },
      "source": [
        "## Modeling"
      ]
    },
    {
      "cell_type": "code",
      "metadata": {
        "id": "1FRy5F3CDWNs",
        "colab_type": "code",
        "colab": {
          "base_uri": "https://localhost:8080/",
          "height": 52
        },
        "outputId": "95c77ba0-bb2d-45db-dfb7-951ef4d9f14c"
      },
      "source": [
        "# reconstruct train and test sets\n",
        "train_feat = features.iloc[:len(n_train)]\n",
        "test_feat = features.iloc[len(n_train):]\n",
        "print('before concatenation + preprocesing:' ,n_train.shape, n_test.shape)\n",
        "print('after concatenation + preprocessing:', train_feat.shape, test_feat.shape)"
      ],
      "execution_count": 86,
      "outputs": [
        {
          "output_type": "stream",
          "text": [
            "before concatenation + preprocesing: (611772, 10) (210000, 10)\n",
            "after concatenation + preprocessing: (611772, 16) (210000, 16)\n"
          ],
          "name": "stdout"
        }
      ]
    },
    {
      "cell_type": "code",
      "metadata": {
        "id": "dkJqUb3ADy4g",
        "colab_type": "code",
        "colab": {
          "base_uri": "https://localhost:8080/",
          "height": 34
        },
        "outputId": "a4c802a6-4385-4811-a0db-b9260028b38b"
      },
      "source": [
        "x_train = train_feat.drop(['Label', 'ID X PCODE'], axis = 1)\n",
        "y_train = train_feat[['Label']]\n",
        "x_test = test_feat.drop(['Label', 'ID X PCODE'], axis = 1)\n",
        "x_train.shape, y_train.shape, x_test.shape, sub.shape"
      ],
      "execution_count": 87,
      "outputs": [
        {
          "output_type": "execute_result",
          "data": {
            "text/plain": [
              "((611772, 14), (611772, 1), (210000, 14), (210000, 2))"
            ]
          },
          "metadata": {
            "tags": []
          },
          "execution_count": 87
        }
      ]
    },
    {
      "cell_type": "code",
      "metadata": {
        "id": "BX0_6OYtRR0E",
        "colab_type": "code",
        "colab": {
          "base_uri": "https://localhost:8080/",
          "height": 296
        },
        "outputId": "ce45d0a3-b7ce-4cbf-feb0-e1ab8e3b5838"
      },
      "source": [
        "# class imbalance\n",
        "sns.countplot(train_feat['Label'])"
      ],
      "execution_count": 29,
      "outputs": [
        {
          "output_type": "execute_result",
          "data": {
            "text/plain": [
              "<matplotlib.axes._subplots.AxesSubplot at 0x7f75520e27f0>"
            ]
          },
          "metadata": {
            "tags": []
          },
          "execution_count": 29
        },
        {
          "output_type": "display_data",
          "data": {
            "image/png": "[encoded data removed]",
            "text/plain": [
              "<Figure size 432x288 with 1 Axes>"
            ]
          },
          "metadata": {
            "tags": [],
            "needs_background": "light"
          }
        }
      ]
    },
    {
      "cell_type": "code",
      "metadata": {
        "id": "jpLqm1vBV2Y_",
        "colab_type": "code",
        "colab": {
          "base_uri": "https://localhost:8080/",
          "height": 211
        },
        "outputId": "3b6c9ddb-3067-42c1-b861-869ecc18a874"
      },
      "source": [
        "import imblearn\n",
        "\n",
        "# Tomek links (under sampling)\n",
        "from imblearn.under_sampling import TomekLinks\n",
        "tl = TomekLinks(return_indices=True, ratio='majority')\n",
        "X_tl, y_tl = tl.fit_resample(x_train, y_train)\n",
        "print(X_tl.shape)\n",
        "print('Removed indexes:', id_tl)"
      ],
      "execution_count": 30,
      "outputs": [
        {
          "output_type": "stream",
          "text": [
            "/usr/local/lib/python3.6/dist-packages/sklearn/externals/six.py:31: FutureWarning: The module is deprecated in version 0.21 and will be removed in version 0.23 since we've dropped support for Python 2.7. Please rely on the official version of six (https://pypi.org/project/six/).\n",
            "  \"(https://pypi.org/project/six/).\", FutureWarning)\n",
            "/usr/local/lib/python3.6/dist-packages/sklearn/utils/deprecation.py:144: FutureWarning: The sklearn.neighbors.base module is  deprecated in version 0.22 and will be removed in version 0.24. The corresponding classes / functions should instead be imported from sklearn.neighbors. Anything that cannot be imported from sklearn.neighbors is now part of the private API.\n",
            "  warnings.warn(message, FutureWarning)\n",
            "/usr/local/lib/python3.6/dist-packages/sklearn/utils/validation.py:760: DataConversionWarning: A column-vector y was passed when a 1d array was expected. Please change the shape of y to (n_samples, ), for example using ravel().\n",
            "  y = column_or_1d(y, warn=True)\n"
          ],
          "name": "stderr"
        },
        {
          "output_type": "stream",
          "text": [
            "(590080, 14)\n",
            "Removed indexes: [     0      1      2 ... 611769 611770 611771]\n"
          ],
          "name": "stdout"
        },
        {
          "output_type": "stream",
          "text": [
            "/usr/local/lib/python3.6/dist-packages/sklearn/utils/deprecation.py:87: FutureWarning: Function safe_indexing is deprecated; safe_indexing is deprecated in version 0.22 and will be removed in version 0.24.\n",
            "  warnings.warn(msg, category=FutureWarning)\n"
          ],
          "name": "stderr"
        }
      ]
    },
    {
      "cell_type": "code",
      "metadata": {
        "id": "rGD0HxZiPCpE",
        "colab_type": "code",
        "colab": {}
      },
      "source": [
        "# # Repeated nearest neighbor undersampling\n",
        "# from imblearn.under_sampling import RepeatedEditedNearestNeighbours\n",
        "# rnn = RepeatedEditedNearestNeighbours()\n",
        "# X_rnn, y_rnn = rnn.fit_resample(x_train, y_train)\n",
        "# print(X_rnn.shape)"
      ],
      "execution_count": null,
      "outputs": []
    },
    {
      "cell_type": "code",
      "metadata": {
        "id": "wfMq1u-B4JbF",
        "colab_type": "code",
        "colab": {
          "base_uri": "https://localhost:8080/",
          "height": 106
        },
        "outputId": "8c0607a2-ce20-4957-cf01-f5ff09547533"
      },
      "source": [
        "# Smote oversampling\n",
        "from imblearn.over_sampling import SMOTE\n",
        "smote = SMOTE(ratio='minority')\n",
        "X_smote, y_smote = smote.fit_sample(x_train, y_train)"
      ],
      "execution_count": 31,
      "outputs": [
        {
          "output_type": "stream",
          "text": [
            "/usr/local/lib/python3.6/dist-packages/sklearn/utils/validation.py:760: DataConversionWarning: A column-vector y was passed when a 1d array was expected. Please change the shape of y to (n_samples, ), for example using ravel().\n",
            "  y = column_or_1d(y, warn=True)\n",
            "/usr/local/lib/python3.6/dist-packages/sklearn/utils/deprecation.py:87: FutureWarning: Function safe_indexing is deprecated; safe_indexing is deprecated in version 0.22 and will be removed in version 0.24.\n",
            "  warnings.warn(msg, category=FutureWarning)\n"
          ],
          "name": "stderr"
        }
      ]
    },
    {
      "cell_type": "code",
      "metadata": {
        "id": "VcyS_T4IZ5rF",
        "colab_type": "code",
        "colab": {
          "base_uri": "https://localhost:8080/",
          "height": 34
        },
        "outputId": "b40c58e8-6eac-481b-edbf-73a90ece48e3"
      },
      "source": [
        "x_train.shape, y_train.shape, X_tl.shape, X_smote.shape, y_tl.shape, y_smote.shape"
      ],
      "execution_count": 34,
      "outputs": [
        {
          "output_type": "execute_result",
          "data": {
            "text/plain": [
              "((611772, 14), (611772, 1), (590080, 14), (1090838, 14), (590080,), (1090838,))"
            ]
          },
          "metadata": {
            "tags": []
          },
          "execution_count": 34
        }
      ]
    },
    {
      "cell_type": "code",
      "metadata": {
        "id": "V5LFf91t6dV3",
        "colab_type": "code",
        "colab": {
          "base_uri": "https://localhost:8080/",
          "height": 733
        },
        "outputId": "812a5ae3-e046-4972-f92a-06fc5c26a56b"
      },
      "source": [
        "f, axs = plt.subplots(3,figsize=(8,12))\n",
        "sns.countplot(y_train.Label, ax = axs[0]).set_title('No resampling')\n",
        "sns.countplot(y_smote, ax = axs[1]).set_title('Smote oversampled')\n",
        "sns.countplot(y_tl, ax = axs[2]).set_title('Tomek link undersampling')\n",
        "# sns.countplot(y_cnn, ax = axs[2]).set_title('RNN undersampling')"
      ],
      "execution_count": 49,
      "outputs": [
        {
          "output_type": "execute_result",
          "data": {
            "text/plain": [
              "Text(0.5, 1.0, 'Tomek link undersampling')"
            ]
          },
          "metadata": {
            "tags": []
          },
          "execution_count": 49
        },
        {
          "output_type": "display_data",
          "data": {
            "image/png": "[encoded data removed]",
            "text/plain": [
              "<Figure size 576x864 with 3 Axes>"
            ]
          },
          "metadata": {
            "tags": [],
            "needs_background": "light"
          }
        }
      ]
    },
    {
      "cell_type": "code",
      "metadata": {
        "id": "eTqQLZY0LRjT",
        "colab_type": "code",
        "colab": {
          "base_uri": "https://localhost:8080/",
          "height": 350
        },
        "outputId": "e6df365d-48fe-4c63-e81e-2437c690a509"
      },
      "source": [
        "# models + accuracy metrics\n",
        "from sklearn.linear_model import LogisticRegression\n",
        "from xgboost import XGBRegressor\n",
        "from sklearn.ensemble import RandomForestClassifier, GradientBoostingRegressor\n",
        "from sklearn.model_selection import KFold, cross_val_score, train_test_split\n",
        "from sklearn.metrics import mean_squared_error, mean_absolute_error\n",
        "from sklearn.svm import SVC, LinearSVC\n",
        "from sklearn.neural_network import MLPClassifier\n",
        "from sklearn.model_selection import learning_curve, GridSearchCV, StratifiedKFold\n",
        "from xgboost import XGBClassifier\n",
        "!pip install catboost\n",
        "from catboost import CatBoostClassifier\n",
        "from sklearn.ensemble import AdaBoostClassifier\n",
        "from sklearn.ensemble import RandomForestClassifier\n",
        "from sklearn.naive_bayes import GaussianNB\n",
        "from sklearn.base import BaseEstimator, TransformerMixin, RegressorMixin, clone\n",
        "from lightgbm import LGBMClassifier\n",
        "\n",
        "\n",
        "# evaluation\n",
        "from sklearn.metrics import average_precision_score, auc, roc_curve, precision_recall_curve\n",
        "from sklearn.metrics import precision_recall_curve\n",
        "from sklearn.metrics import roc_auc_score, roc_curve, auc, f1_score\n",
        "from sklearn.metrics import precision_recall_fscore_support as score"
      ],
      "execution_count": 62,
      "outputs": [
        {
          "output_type": "stream",
          "text": [
            "Collecting catboost\n",
            "\u001b[?25l  Downloading https://files.pythonhosted.org/packages/90/86/c3dcb600b4f9e7584ed90ea9d30a717fb5c0111574675f442c3e7bc19535/catboost-0.24.1-cp36-none-manylinux1_x86_64.whl (66.1MB)\n",
            "\u001b[K     |████████████████████████████████| 66.1MB 58kB/s \n",
            "\u001b[?25hRequirement already satisfied: six in /usr/local/lib/python3.6/dist-packages (from catboost) (1.15.0)\n",
            "Requirement already satisfied: numpy>=1.16.0 in /usr/local/lib/python3.6/dist-packages (from catboost) (1.18.5)\n",
            "Requirement already satisfied: scipy in /usr/local/lib/python3.6/dist-packages (from catboost) (1.4.1)\n",
            "Requirement already satisfied: graphviz in /usr/local/lib/python3.6/dist-packages (from catboost) (0.10.1)\n",
            "Requirement already satisfied: pandas>=0.24.0 in /usr/local/lib/python3.6/dist-packages (from catboost) (1.0.5)\n",
            "Requirement already satisfied: matplotlib in /usr/local/lib/python3.6/dist-packages (from catboost) (3.2.2)\n",
            "Requirement already satisfied: plotly in /usr/local/lib/python3.6/dist-packages (from catboost) (4.4.1)\n",
            "Requirement already satisfied: pytz>=2017.2 in /usr/local/lib/python3.6/dist-packages (from pandas>=0.24.0->catboost) (2018.9)\n",
            "Requirement already satisfied: python-dateutil>=2.6.1 in /usr/local/lib/python3.6/dist-packages (from pandas>=0.24.0->catboost) (2.8.1)\n",
            "Requirement already satisfied: cycler>=0.10 in /usr/local/lib/python3.6/dist-packages (from matplotlib->catboost) (0.10.0)\n",
            "Requirement already satisfied: pyparsing!=2.0.4,!=2.1.2,!=2.1.6,>=2.0.1 in /usr/local/lib/python3.6/dist-packages (from matplotlib->catboost) (2.4.7)\n",
            "Requirement already satisfied: kiwisolver>=1.0.1 in /usr/local/lib/python3.6/dist-packages (from matplotlib->catboost) (1.2.0)\n",
            "Requirement already satisfied: retrying>=1.3.3 in /usr/local/lib/python3.6/dist-packages (from plotly->catboost) (1.3.3)\n",
            "Installing collected packages: catboost\n",
            "Successfully installed catboost-0.24.1\n"
          ],
          "name": "stdout"
        }
      ]
    },
    {
      "cell_type": "code",
      "metadata": {
        "id": "VFrEGyQaLfNg",
        "colab_type": "code",
        "colab": {}
      },
      "source": [
        "# kfold\n",
        "kf = KFold(n_splits=10, random_state = 42, shuffle = True)\n",
        "def overall_score(model, x_train, y_train):\n",
        "    accuracy = cross_val_score(estimator = model, X = x_train, y = y_train, cv = kf)\n",
        "    return accuracy.mean()\n",
        "\n",
        "#stratified\n",
        "cv = StratifiedKFold(n_splits=10, random_state=42, shuffle = True)\n",
        "def overall__stratified_score(model, x_train, y_train):\n",
        "    accuracy = cross_val_score(estimator = model, X = x_train, y = y_train, cv = cv)\n",
        "    return accuracy.mean()"
      ],
      "execution_count": 69,
      "outputs": []
    },
    {
      "cell_type": "code",
      "metadata": {
        "id": "2Npb1CI7SruH",
        "colab_type": "code",
        "colab": {}
      },
      "source": [
        ""
      ],
      "execution_count": null,
      "outputs": []
    },
    {
      "cell_type": "code",
      "metadata": {
        "id": "OPcLMcoIRbBH",
        "colab_type": "code",
        "colab": {}
      },
      "source": [
        "# def rmsle_cv(model):\n",
        "#     kf = KFold(n_folds, shuffle=True, random_state=42).get_n_splits(x_train.values)\n",
        "#     rmse= np.sqrt(-cross_val_score(model, x_train.values, y_train, scoring=\"neg_mean_squared_error\", cv = kf))\n",
        "#     return(rmse)"
      ],
      "execution_count": null,
      "outputs": []
    },
    {
      "cell_type": "code",
      "metadata": {
        "id": "3-a-J6BsTZjF",
        "colab_type": "code",
        "colab": {
          "base_uri": "https://localhost:8080/",
          "height": 245
        },
        "outputId": "984737a4-8cb0-47b5-cb34-805e8e469cf9"
      },
      "source": [
        "# import lightgbm as lgb\n",
        "# from sklearn.metrics import log_loss\n",
        "\n",
        "# l_dat = lgb.Dataset(x_train, y_train)\n",
        "\n",
        "# params = {\n",
        "#         'objective': 'xentropy',\n",
        "#         'learning_rate':0.05,\n",
        "#         'reg_lambda': 1,\n",
        "#         'feature_fraction': 0.75,\n",
        "#         'bagging_fraction': 0.7,\n",
        "#         'bagging_freq': 1,\n",
        "#         'boosting_type': 'gbdt',\n",
        "#         'reg_alpha': 2,\n",
        "#         'num_leaves':  31,\n",
        "#         'min_data_in_leaf': 1,\n",
        "#         'feature_fraction_seed': 201,\n",
        "#         'bagging_seed': 427\n",
        "#         }\n",
        "\n",
        "# cv = lgb.cv(params, l_dat, num_boost_round = 5)\n",
        "\n",
        "# # Display results\n",
        "# print('Current parameters:\\n', params)\n",
        "# # print('\\nBest num_boost_round:', len(cv['l1-mean']))\n",
        "# # print('Best CV score:', cv['l1-mean'][-1])\n",
        "# cv"
      ],
      "execution_count": 61,
      "outputs": [
        {
          "output_type": "stream",
          "text": [
            "Current parameters:\n",
            " {'objective': 'xentropy', 'learning_rate': 0.05, 'reg_lambda': 1, 'feature_fraction': 0.75, 'bagging_fraction': 0.7, 'bagging_freq': 1, 'boosting_type': 'gbdt', 'reg_alpha': 2, 'num_leaves': 31, 'min_data_in_leaf': 1, 'feature_fraction_seed': 201, 'bagging_seed': 427}\n"
          ],
          "name": "stdout"
        },
        {
          "output_type": "execute_result",
          "data": {
            "text/plain": [
              "{'xentropy-mean': [0.6566705986693567,\n",
              "  0.6238390372862279,\n",
              "  0.5934914541932385,\n",
              "  0.5659661459922546,\n",
              "  0.5514559201242776],\n",
              " 'xentropy-stdv': [0.0002925837774641566,\n",
              "  0.0003166111897807529,\n",
              "  0.00015821798738805857,\n",
              "  0.00042297730965888306,\n",
              "  0.00041024237388265894]}"
            ]
          },
          "metadata": {
            "tags": []
          },
          "execution_count": 61
        }
      ]
    },
    {
      "cell_type": "code",
      "metadata": {
        "id": "uIpurpr8Lg5C",
        "colab_type": "code",
        "colab": {
          "base_uri": "https://localhost:8080/",
          "height": 104
        },
        "outputId": "33a1c559-7b2e-4838-dbed-89b3dbdd1b3d"
      },
      "source": [
        "# using ridsearch to get the optimal parameters\n",
        "# lgbm = LGBMClassifier(colsample_bytree = 0.9234, min_child_samples = 399, \n",
        "#                   min_child_weight = 0.1, num_leaves = 13, \n",
        "#                   reg_alpha = 2, reg_lambda = 5, subsample = 0.855)\n",
        "\n",
        "lgbm = LGBMClassifier()\n",
        "\n",
        "optimization_dict = {\n",
        "    'num_leaves': [40, 120],\n",
        "    'reg_alpha': [0.1, 0.5],\n",
        "    'min_data_in_leaf': [50, 100, 300],\n",
        "    'lambda_l1': [0, 1, 1.5],\n",
        "    'lambda_l2': [0, 1]\n",
        "    }\n",
        "\n",
        "model = GridSearchCV(lgbm, optimization_dict, \n",
        "                     scoring='accuracy', verbose=1)\n",
        "\n",
        "\n",
        "model.fit(x_train,y_train.ravel())\n",
        "print(model.best_score_)\n",
        "print(model.best_params_)"
      ],
      "execution_count": null,
      "outputs": [
        {
          "output_type": "stream",
          "text": [
            "Fitting 5 folds for each of 72 candidates, totalling 360 fits\n"
          ],
          "name": "stdout"
        },
        {
          "output_type": "stream",
          "text": [
            "[Parallel(n_jobs=1)]: Using backend SequentialBackend with 1 concurrent workers.\n",
            "[Parallel(n_jobs=1)]: Done 360 out of 360 | elapsed: 36.9min finished\n"
          ],
          "name": "stderr"
        },
        {
          "output_type": "stream",
          "text": [
            "0.9651955950281618\n",
            "{'lambda_l1': 0, 'lambda_l2': 1, 'min_data_in_leaf': 50, 'num_leaves': 120, 'reg_alpha': 0.1}\n"
          ],
          "name": "stdout"
        }
      ]
    },
    {
      "cell_type": "code",
      "metadata": {
        "id": "BzS9RXja8CX6",
        "colab_type": "code",
        "colab": {
          "base_uri": "https://localhost:8080/",
          "height": 121
        },
        "outputId": "6e66c80a-893f-4e9c-faca-a5c55d6602c9"
      },
      "source": [
        "lgbm = LGBMClassifier(lambda_l1 = 0, lambda_l2 = 1, min_data_in_leaf = 50, num_leaves = 120, reg_alpha = 0.1)\n",
        "\n",
        "# using kfolds\n",
        "print('lgbm mean score smote stratified:', overall__stratified_score(lgbm, X_smote, y_smote))\n",
        "print('lgbm mean score smote:', overall_score(lgbm, X_smote, y_smote))\n",
        "print('lgbm mean score links stratified:', overall__stratified_score(lgbm, X_tl, y_tl))\n",
        "print('lgbm mean score links:', overall_score(lgbm, X_tl, y_tl))\n",
        "yy = y_train.values.ravel()\n",
        "print('lgbm mean score org stratified:', overall__stratified_score(lgbm, x_train, yy))\n",
        "print('lgbm mean score org:', overall_score(lgbm, x_train, yy))\n"
      ],
      "execution_count": 70,
      "outputs": [
        {
          "output_type": "stream",
          "text": [
            "lgbm mean score smote stratified: 0.9770268357779006\n",
            "lgbm mean score smote: 0.977021335345506\n",
            "lgbm mean score links stratified: 0.963420214208243\n",
            "lgbm mean score links: 0.9634286876355749\n",
            "lgbm mean score org stratified: 0.9626282353128509\n",
            "lgbm mean score org: 0.9626282346716003\n"
          ],
          "name": "stdout"
        }
      ]
    },
    {
      "cell_type": "code",
      "metadata": {
        "id": "z09XOCACbAs2",
        "colab_type": "code",
        "colab": {
          "base_uri": "https://localhost:8080/",
          "height": 176
        },
        "outputId": "014627bf-78b4-4a71-90cf-6e4bb8b5590f"
      },
      "source": [
        "from sklearn.metrics import confusion_matrix\n",
        "x_train, x_val, y_train, y_val = train_test_split(x_train ,y_train, test_size = 0.20, random_state = 42)\n",
        "lgbm = lgbm.fit(x_train, y_train)\n",
        "y_pred = lgbm.predict_proba(x_val)\n",
        "loss = log_loss(y_val, y_pred)\n",
        "print('org loss:', loss)\n",
        "cm = confusion_matrix(y_val, lgbm.predict(x_val))\n",
        "print('org cm:\\n', cm)"
      ],
      "execution_count": 78,
      "outputs": [
        {
          "output_type": "stream",
          "text": [
            "/usr/local/lib/python3.6/dist-packages/sklearn/preprocessing/_label.py:235: DataConversionWarning: A column-vector y was passed when a 1d array was expected. Please change the shape of y to (n_samples, ), for example using ravel().\n",
            "  y = column_or_1d(y, warn=True)\n",
            "/usr/local/lib/python3.6/dist-packages/sklearn/preprocessing/_label.py:268: DataConversionWarning: A column-vector y was passed when a 1d array was expected. Please change the shape of y to (n_samples, ), for example using ravel().\n",
            "  y = column_or_1d(y, warn=True)\n"
          ],
          "name": "stderr"
        },
        {
          "output_type": "stream",
          "text": [
            "org loss: 0.10511024311447192\n",
            "org cm:\n",
            " [[107532   1521]\n",
            " [  3076  10226]]\n"
          ],
          "name": "stdout"
        }
      ]
    },
    {
      "cell_type": "code",
      "metadata": {
        "id": "0gSb0hcEU6fA",
        "colab_type": "code",
        "colab": {
          "base_uri": "https://localhost:8080/",
          "height": 86
        },
        "outputId": "f3a2b536-5a5b-4bb9-b79b-9257b6ff7a3e"
      },
      "source": [
        "x_train, x_val, y_train, y_val = train_test_split(X_smote ,y_smote, test_size = 0.20, random_state = 42)\n",
        "lgbm = lgbm.fit(x_train, y_train)\n",
        "y_pred = lgbm.predict_proba(x_val)\n",
        "loss = log_loss(y_val, y_pred)\n",
        "print('smote loss:', loss)\n",
        "cm = confusion_matrix(y_val, lgbm.predict(x_val))\n",
        "print('smote cm\\n:', cm)"
      ],
      "execution_count": 79,
      "outputs": [
        {
          "output_type": "stream",
          "text": [
            "smote loss: 0.06769950313805935\n",
            "smote cm\n",
            ": [[107374   1816]\n",
            " [  3118 105860]]\n"
          ],
          "name": "stdout"
        }
      ]
    },
    {
      "cell_type": "code",
      "metadata": {
        "id": "YxTs11SfU6jr",
        "colab_type": "code",
        "colab": {
          "base_uri": "https://localhost:8080/",
          "height": 86
        },
        "outputId": "95c2e782-f35b-4fca-996c-78976afea86b"
      },
      "source": [
        "x_train, x_val, y_train, y_val = train_test_split(X_tl ,y_tl, test_size = 0.20, random_state = 42)\n",
        "lgbm = lgbm.fit(x_train, y_train)\n",
        "y_pred = lgbm.predict_proba(x_val)\n",
        "loss = log_loss(y_val, y_pred)\n",
        "print('Tomek link loss:', loss)\n",
        "cm = confusion_matrix(y_val, lgbm.predict(x_val))\n",
        "print('Tomek link cm:\\n', cm)"
      ],
      "execution_count": 80,
      "outputs": [
        {
          "output_type": "stream",
          "text": [
            "Tomek link loss: 0.10528479326576251\n",
            "Tomek link cm:\n",
            " [[103185   1397]\n",
            " [  3001  10433]]\n"
          ],
          "name": "stdout"
        }
      ]
    },
    {
      "cell_type": "markdown",
      "metadata": {
        "id": "a15HfiUKW9uy",
        "colab_type": "text"
      },
      "source": [
        "All through smote gives me a good pred. Lets see cat boost"
      ]
    },
    {
      "cell_type": "code",
      "metadata": {
        "id": "yZndsJ7nXIx3",
        "colab_type": "code",
        "colab": {}
      },
      "source": [
        "cat = CatBoostClassifier(silent = True)\n",
        "\n",
        "print('cat mean score smote stratified:', overall__stratified_score(cat, X_smote, y_smote))\n",
        "print('cat mean score smote:', overall_score(cat, X_smote, y_smote))\n",
        "print('cat mean score links stratified:', overall__stratified_score(cat, X_tl, y_tl))\n",
        "print('cat mean score links:', overall_score(cat, X_tl, y_tl))\n",
        "yy = y_train.values.ravel()\n",
        "print('cat mean score org stratified:', overall__stratified_score(cat, x_train, yy))\n",
        "print('cat mean score org:', overall_score(cat, x_train, yy))"
      ],
      "execution_count": null,
      "outputs": []
    },
    {
      "cell_type": "code",
      "metadata": {
        "id": "M5ezSov2URR9",
        "colab_type": "code",
        "colab": {
          "base_uri": "https://localhost:8080/",
          "height": 86
        },
        "outputId": "75294c6c-e793-4272-efca-9034a84c7d98"
      },
      "source": [
        "cat = CatBoostClassifier(silent = True)\n",
        "\n",
        "x_train, x_val, y_train, y_val = train_test_split(x_train ,y_train, test_size = 0.20, random_state = 42)\n",
        "cat = cat.fit(x_train, y_train)\n",
        "y_pred = cat.predict_proba(x_val)\n",
        "loss = log_loss(y_val, y_pred)\n",
        "print('org cat loss:', loss)\n",
        "cm = confusion_matrix(y_val, cat.predict(x_val))\n",
        "print('org cat cm:\\n', cm)"
      ],
      "execution_count": 83,
      "outputs": [
        {
          "output_type": "stream",
          "text": [
            "org cat loss: 0.10609933170979258\n",
            "org cat cm:\n",
            " [[107472   1581]\n",
            " [  2990  10312]]\n"
          ],
          "name": "stdout"
        }
      ]
    },
    {
      "cell_type": "code",
      "metadata": {
        "id": "FftSVb1aXXzt",
        "colab_type": "code",
        "colab": {
          "base_uri": "https://localhost:8080/",
          "height": 86
        },
        "outputId": "571fc5f1-149d-48bf-cedd-0fac1f899315"
      },
      "source": [
        "x_train, x_val, y_train, y_val = train_test_split(X_smote ,y_smote, test_size = 0.20, random_state = 42)\n",
        "cat = cat.fit(x_train, y_train)\n",
        "y_pred = cat.predict_proba(x_val)\n",
        "loss = log_loss(y_val, y_pred)\n",
        "print('smote cat loss:', loss)\n",
        "cm = confusion_matrix(y_val, cat.predict(x_val))\n",
        "print('smote cat cm:\\n', cm)"
      ],
      "execution_count": 84,
      "outputs": [
        {
          "output_type": "stream",
          "text": [
            "smote cat loss: 0.06199678502742284\n",
            "smote cat cm:\n",
            " [[107481   1709]\n",
            " [  3005 105973]]\n"
          ],
          "name": "stdout"
        }
      ]
    },
    {
      "cell_type": "code",
      "metadata": {
        "id": "lbBHoCerXX4M",
        "colab_type": "code",
        "colab": {
          "base_uri": "https://localhost:8080/",
          "height": 86
        },
        "outputId": "35cd9a7f-1759-4792-c1b8-c1903c036776"
      },
      "source": [
        "x_train, x_val, y_train, y_val = train_test_split(X_tl ,y_tl, test_size = 0.20, random_state = 42)\n",
        "cat = cat.fit(x_train, y_train)\n",
        "y_pred = cat.predict_proba(x_val)\n",
        "loss = log_loss(y_val, y_pred)\n",
        "print('Tomek link cat loss:', loss)\n",
        "cm = confusion_matrix(y_val, cat.predict(x_val))\n",
        "print('Tomek link cat cm:\\n', cm)"
      ],
      "execution_count": 85,
      "outputs": [
        {
          "output_type": "stream",
          "text": [
            "Tomek link cat loss: 0.10627723310986271\n",
            "Tomek link cat cm:\n",
            " [[103078   1504]\n",
            " [  2961  10473]]\n"
          ],
          "name": "stdout"
        }
      ]
    },
    {
      "cell_type": "markdown",
      "metadata": {
        "id": "lvMnuu1Ua1kI",
        "colab_type": "text"
      },
      "source": [
        "Smote wins again."
      ]
    },
    {
      "cell_type": "code",
      "metadata": {
        "id": "Ce4ej9s7alIA",
        "colab_type": "code",
        "colab": {
          "base_uri": "https://localhost:8080/",
          "height": 141
        },
        "outputId": "26b1789f-5bde-4baf-c1a6-3ff8d8cb5ee2"
      },
      "source": [
        "from sklearn.neural_network import MLPClassifier\n",
        "mlp = MLPClassifier()\n",
        "\n",
        "x_train, x_val, y_train, y_val = train_test_split(x_train ,y_train, test_size = 0.20, random_state = 42)\n",
        "mlp = mlp.fit(x_train, y_train)\n",
        "y_pred = mlp.predict_proba(x_val)\n",
        "loss = log_loss(y_val, y_pred)\n",
        "print('org mlp loss:', loss)\n",
        "cm = confusion_matrix(y_val, mlp.predict(x_val))\n",
        "print('org mlp cm:\\n', cm)"
      ],
      "execution_count": 88,
      "outputs": [
        {
          "output_type": "stream",
          "text": [
            "/usr/local/lib/python3.6/dist-packages/sklearn/neural_network/_multilayer_perceptron.py:934: DataConversionWarning: A column-vector y was passed when a 1d array was expected. Please change the shape of y to (n_samples, ), for example using ravel().\n",
            "  y = column_or_1d(y, warn=True)\n"
          ],
          "name": "stderr"
        },
        {
          "output_type": "stream",
          "text": [
            "org mlp loss: 0.15024375351447392\n",
            "org mlp cm:\n",
            " [[107420   1633]\n",
            " [  4007   9295]]\n"
          ],
          "name": "stdout"
        }
      ]
    },
    {
      "cell_type": "code",
      "metadata": {
        "id": "Yno4HjSCa9Bw",
        "colab_type": "code",
        "colab": {
          "base_uri": "https://localhost:8080/",
          "height": 86
        },
        "outputId": "4dc0ad55-a473-4c39-966b-f1ed7d0ff150"
      },
      "source": [
        "x_train, x_val, y_train, y_val = train_test_split(X_smote ,y_smote, test_size = 0.20, random_state = 42)\n",
        "mlp = mlp.fit(x_train, y_train)\n",
        "y_pred = mlp.predict_proba(x_val)\n",
        "loss = log_loss(y_val, y_pred)\n",
        "print('smote mlp loss:', loss)\n",
        "cm = confusion_matrix(y_val, mlp.predict(x_val))\n",
        "print('smote mlp cm:\\n', cm)"
      ],
      "execution_count": 89,
      "outputs": [
        {
          "output_type": "stream",
          "text": [
            "smote mlp loss: 0.22396891676914793\n",
            "smote mlp cm:\n",
            " [[103250   5940]\n",
            " [ 12720  96258]]\n"
          ],
          "name": "stdout"
        }
      ]
    },
    {
      "cell_type": "code",
      "metadata": {
        "id": "ddzhw-hua9KX",
        "colab_type": "code",
        "colab": {}
      },
      "source": [
        "x_train, x_val, y_train, y_val = train_test_split(X_tl ,y_tl, test_size = 0.20, random_state = 42)\n",
        "mlp = mlp.fit(x_train, y_train)\n",
        "y_pred = mlp.predict_proba(x_val)\n",
        "loss = log_loss(y_val, y_pred)\n",
        "print('Tomek link mlp loss:', loss)\n",
        "cm = confusion_matrix(y_val, mlp.predict(x_val))\n",
        "print('Tomek link mlp cm:\\n', cm)"
      ],
      "execution_count": null,
      "outputs": []
    },
    {
      "cell_type": "code",
      "metadata": {
        "id": "CbUk0-0YV9B-",
        "colab_type": "code",
        "colab": {
          "base_uri": "https://localhost:8080/",
          "height": 52
        },
        "outputId": "260b7480-23d9-4f83-9957-a1689f1d301e"
      },
      "source": [
        "xgb = XGBClassifier(silent = True)\n",
        "\n",
        "# using kfolds\n",
        "print('xgb mean score on the original dataset (kfold):', overall_score(xgb, x_train))\n",
        "\n",
        "# stratified KFold\n",
        "print('xgb mean score on the original dataset (stratified kfold):', overall__stratified_score(xgb, x_train))"
      ],
      "execution_count": null,
      "outputs": [
        {
          "output_type": "stream",
          "text": [
            "xgb mean score on the original dataset (kfold): 0.8383664717495843\n",
            "xgb mean score on the original dataset (stratified kfold): 0.7252857538156843\n"
          ],
          "name": "stdout"
        }
      ]
    },
    {
      "cell_type": "markdown",
      "metadata": {
        "id": "hceJPaQ9Zym9",
        "colab_type": "text"
      },
      "source": [
        "Interesting"
      ]
    },
    {
      "cell_type": "code",
      "metadata": {
        "id": "8ZV5Iy2bU2sm",
        "colab_type": "code",
        "colab": {}
      },
      "source": [
        "class AveragingModels(BaseEstimator, RegressorMixin, TransformerMixin):\n",
        "    def __init__(self, models):\n",
        "        self.models = models\n",
        "        \n",
        "    # we define clones of the original models to fit the data in\n",
        "    def fit(self, x_train, y_train):\n",
        "        self.models_ = [clone(x) for x in self.models]\n",
        "        \n",
        "        # Train cloned base models\n",
        "        for model in self.models_:\n",
        "            model.fit(x_train, y_train)\n",
        "\n",
        "        return self\n",
        "    \n",
        "    #Now we do the predictions for cloned models and pick out the mode\n",
        "    def predict(self, x_train):\n",
        "        predictions = np.column_stack([\n",
        "            model.predict(x_train) for model in self.models_\n",
        "        ])\n",
        "        m = stats.mode(predictions, axis=1)\n",
        "        return m[0]"
      ],
      "execution_count": null,
      "outputs": []
    },
    {
      "cell_type": "code",
      "metadata": {
        "id": "ywIlWZWmU8xI",
        "colab_type": "code",
        "colab": {}
      },
      "source": [
        "averaged_models = AveragingModels(models = (lgbm, xgb))\n",
        "\n",
        "# using kfolds\n",
        "print('averaged_models mean score on the original dataset (kfold):', overall_score(averaged_models, x_train))\n",
        "# stratified KFold\n",
        "print('averaged_models mean score on the original dataset (stratified kfold):', overall__stratified_score(averaged_models, x_train))"
      ],
      "execution_count": null,
      "outputs": []
    },
    {
      "cell_type": "code",
      "metadata": {
        "id": "kbNbNC7SAwQP",
        "colab_type": "code",
        "colab": {}
      },
      "source": [
        "X_smote.shape, x_test.shape"
      ],
      "execution_count": null,
      "outputs": []
    },
    {
      "cell_type": "code",
      "metadata": {
        "id": "3usEaeFhBwe4",
        "colab_type": "code",
        "colab": {
          "base_uri": "https://localhost:8080/",
          "height": 104
        },
        "outputId": "24007483-e4a9-4e27-86a7-07ffd4faba70"
      },
      "source": [
        "# lgbm predictions\n",
        "lgbm = LGBMClassifier(lambda_l1 = 0, lambda_l2 = 1, min_data_in_leaf = 50, num_leaves = 120, reg_alpha = 0.1)\n",
        "\n",
        "# opt_parameters = {'colsample_bytree': 0.9234, 'min_child_samples': 399, \n",
        "#                   'min_child_weight': 0.1, 'num_leaves': 13, \n",
        "#                   'reg_alpha': 2, 'reg_lambda': 5, 'subsample': 0.855}\n",
        "\n",
        "# lgbm = LGBMClassifier(colsample_bytree = 0.9234, min_child_samples = 399, \n",
        "#                   min_child_weight = 0.1, num_leaves = 13, \n",
        "#                   reg_alpha = 2, reg_lambda = 5, subsample = 0.855)\n",
        "#set optimal parameters\n",
        "# lgbm\n",
        "\n",
        "lgbm = lgbm.fit(X_smote,y_smote)\n",
        "l_pred = lgbm.predict(x_test)\n",
        "l_prob = lgbm.predict_proba(x_test)\n",
        "l_prob[:5]"
      ],
      "execution_count": null,
      "outputs": [
        {
          "output_type": "execute_result",
          "data": {
            "text/plain": [
              "array([[0.99533091, 0.00466909],\n",
              "       [0.99764423, 0.00235577],\n",
              "       [0.99655359, 0.00344641],\n",
              "       [0.99734205, 0.00265795],\n",
              "       [0.9971516 , 0.0028484 ]])"
            ]
          },
          "metadata": {
            "tags": []
          },
          "execution_count": 167
        }
      ]
    },
    {
      "cell_type": "code",
      "metadata": {
        "id": "t0PyW6oOaHVG",
        "colab_type": "code",
        "colab": {
          "base_uri": "https://localhost:8080/",
          "height": 206
        },
        "outputId": "1b07f21e-4834-48ad-b4f0-fbef19be2ec7"
      },
      "source": [
        "y_test = pd.DataFrame(l_prob)\n",
        "# le = LabelEncoder()\n",
        "# le.fit(y_train.values.ravel())\n",
        "# y_test.columns = le.inverse_transform(y_test.columns)\n",
        "y_test.columns = ['label0', 'label1']\n",
        "y_test.head()"
      ],
      "execution_count": null,
      "outputs": [
        {
          "output_type": "execute_result",
          "data": {
            "text/html": [
              "<div>\n",
              "<style scoped>\n",
              "    .dataframe tbody tr th:only-of-type {\n",
              "        vertical-align: middle;\n",
              "    }\n",
              "\n",
              "    .dataframe tbody tr th {\n",
              "        vertical-align: top;\n",
              "    }\n",
              "\n",
              "    .dataframe thead th {\n",
              "        text-align: right;\n",
              "    }\n",
              "</style>\n",
              "<table border=\"1\" class=\"dataframe\">\n",
              "  <thead>\n",
              "    <tr style=\"text-align: right;\">\n",
              "      <th></th>\n",
              "      <th>label0</th>\n",
              "      <th>label1</th>\n",
              "    </tr>\n",
              "  </thead>\n",
              "  <tbody>\n",
              "    <tr>\n",
              "      <th>0</th>\n",
              "      <td>0.995331</td>\n",
              "      <td>0.004669</td>\n",
              "    </tr>\n",
              "    <tr>\n",
              "      <th>1</th>\n",
              "      <td>0.997644</td>\n",
              "      <td>0.002356</td>\n",
              "    </tr>\n",
              "    <tr>\n",
              "      <th>2</th>\n",
              "      <td>0.996554</td>\n",
              "      <td>0.003446</td>\n",
              "    </tr>\n",
              "    <tr>\n",
              "      <th>3</th>\n",
              "      <td>0.997342</td>\n",
              "      <td>0.002658</td>\n",
              "    </tr>\n",
              "    <tr>\n",
              "      <th>4</th>\n",
              "      <td>0.997152</td>\n",
              "      <td>0.002848</td>\n",
              "    </tr>\n",
              "  </tbody>\n",
              "</table>\n",
              "</div>"
            ],
            "text/plain": [
              "     label0    label1\n",
              "0  0.995331  0.004669\n",
              "1  0.997644  0.002356\n",
              "2  0.996554  0.003446\n",
              "3  0.997342  0.002658\n",
              "4  0.997152  0.002848"
            ]
          },
          "metadata": {
            "tags": []
          },
          "execution_count": 172
        }
      ]
    },
    {
      "cell_type": "code",
      "metadata": {
        "id": "7ZuVLDkZI2WK",
        "colab_type": "code",
        "colab": {}
      },
      "source": [
        "# cat = cat.fit(X_smote,y_smote)\n",
        "# c_pred = cat.predict(x_test)\n",
        "# c_prob = cat.predict_proba(x_test)\n",
        "# c_prob[:5]"
      ],
      "execution_count": null,
      "outputs": []
    },
    {
      "cell_type": "code",
      "metadata": {
        "id": "5nXh1YVcJC65",
        "colab_type": "code",
        "colab": {}
      },
      "source": [
        "y_test = pd.DataFrame(c_prob)\n",
        "y_test.columns = ['label0', 'label1']\n",
        "y_test.head()"
      ],
      "execution_count": null,
      "outputs": []
    },
    {
      "cell_type": "code",
      "metadata": {
        "id": "Ijy-6cMvaSvT",
        "colab_type": "code",
        "colab": {
          "base_uri": "https://localhost:8080/",
          "height": 206
        },
        "outputId": "e3237fd6-fb4b-44b2-a536-2128b7869ae7"
      },
      "source": [
        "sub_prob = pd.DataFrame(columns = ['ID X PCODE', 'Label'])\n",
        "sub_prob['Label'] = y_test['label1']\n",
        "sub_prob['ID X PCODE'] = test_feat['ID X PCODE']\n",
        "sub_prob.tail()"
      ],
      "execution_count": null,
      "outputs": [
        {
          "output_type": "execute_result",
          "data": {
            "text/html": [
              "<div>\n",
              "<style scoped>\n",
              "    .dataframe tbody tr th:only-of-type {\n",
              "        vertical-align: middle;\n",
              "    }\n",
              "\n",
              "    .dataframe tbody tr th {\n",
              "        vertical-align: top;\n",
              "    }\n",
              "\n",
              "    .dataframe thead th {\n",
              "        text-align: right;\n",
              "    }\n",
              "</style>\n",
              "<table border=\"1\" class=\"dataframe\">\n",
              "  <thead>\n",
              "    <tr style=\"text-align: right;\">\n",
              "      <th></th>\n",
              "      <th>ID X PCODE</th>\n",
              "      <th>Label</th>\n",
              "    </tr>\n",
              "  </thead>\n",
              "  <tbody>\n",
              "    <tr>\n",
              "      <th>209995</th>\n",
              "      <td>0GMU5UH X ECY3</td>\n",
              "      <td>0.012843</td>\n",
              "    </tr>\n",
              "    <tr>\n",
              "      <th>209996</th>\n",
              "      <td>I9W11CD X ECY3</td>\n",
              "      <td>0.015068</td>\n",
              "    </tr>\n",
              "    <tr>\n",
              "      <th>209997</th>\n",
              "      <td>42WTEGT X ECY3</td>\n",
              "      <td>0.003180</td>\n",
              "    </tr>\n",
              "    <tr>\n",
              "      <th>209998</th>\n",
              "      <td>8EKC4O9 X ECY3</td>\n",
              "      <td>0.023040</td>\n",
              "    </tr>\n",
              "    <tr>\n",
              "      <th>209999</th>\n",
              "      <td>WHII93K X ECY3</td>\n",
              "      <td>0.037329</td>\n",
              "    </tr>\n",
              "  </tbody>\n",
              "</table>\n",
              "</div>"
            ],
            "text/plain": [
              "            ID X PCODE     Label\n",
              "209995  0GMU5UH X ECY3  0.012843\n",
              "209996  I9W11CD X ECY3  0.015068\n",
              "209997  42WTEGT X ECY3  0.003180\n",
              "209998  8EKC4O9 X ECY3  0.023040\n",
              "209999  WHII93K X ECY3  0.037329"
            ]
          },
          "metadata": {
            "tags": []
          },
          "execution_count": 173
        }
      ]
    },
    {
      "cell_type": "code",
      "metadata": {
        "id": "2ylmJki_eeYQ",
        "colab_type": "code",
        "colab": {
          "base_uri": "https://localhost:8080/",
          "height": 34
        },
        "outputId": "c4f1e4c6-4217-42f7-e685-cdad05eccf21"
      },
      "source": [
        "r = sub.loc[sub['Label'] == 1]\n",
        "true_list = r['ID X PCODE'].to_list()\n",
        "len(true_list)"
      ],
      "execution_count": null,
      "outputs": [
        {
          "output_type": "execute_result",
          "data": {
            "text/plain": [
              "12853"
            ]
          },
          "metadata": {
            "tags": []
          },
          "execution_count": 174
        }
      ]
    },
    {
      "cell_type": "code",
      "metadata": {
        "id": "qq07ISoee62p",
        "colab_type": "code",
        "colab": {
          "base_uri": "https://localhost:8080/",
          "height": 121
        },
        "outputId": "f6467987-6ace-49ed-8280-015fc4347e64"
      },
      "source": [
        "for i in range(sub_prob.shape[0]):\n",
        "    if sub_prob['ID X PCODE'].iloc[i] in true_list:\n",
        "        sub_prob['Label'].iloc[i] = 1.0\n",
        "        \n",
        "sub_prob['Label'].nunique()"
      ],
      "execution_count": null,
      "outputs": [
        {
          "output_type": "stream",
          "text": [
            "/usr/local/lib/python3.6/dist-packages/pandas/core/indexing.py:671: SettingWithCopyWarning: \n",
            "A value is trying to be set on a copy of a slice from a DataFrame\n",
            "\n",
            "See the caveats in the documentation: https://pandas.pydata.org/pandas-docs/stable/user_guide/indexing.html#returning-a-view-versus-a-copy\n",
            "  self._setitem_with_indexer(indexer, value)\n"
          ],
          "name": "stderr"
        },
        {
          "output_type": "execute_result",
          "data": {
            "text/plain": [
              "183831"
            ]
          },
          "metadata": {
            "tags": []
          },
          "execution_count": 175
        }
      ]
    },
    {
      "cell_type": "code",
      "metadata": {
        "id": "XbMdLSuqnS0-",
        "colab_type": "code",
        "colab": {}
      },
      "source": [
        "# a = id_df['ID X PCODE'].to_list()\n",
        "# b = sub_prob['ID X PCODE'].to_list()\n",
        "# main_list = np.setdiff1d(b,a)\n",
        "# main_list\n",
        "# # id_df.shape, sub.shape, sub_prob.shape"
      ],
      "execution_count": null,
      "outputs": []
    },
    {
      "cell_type": "code",
      "metadata": {
        "id": "9-UrwIvCquaI",
        "colab_type": "code",
        "colab": {}
      },
      "source": [
        "sub_prob.to_csv('damn1.csv', index = False)"
      ],
      "execution_count": null,
      "outputs": []
    },
    {
      "cell_type": "code",
      "metadata": {
        "id": "KA2UkE8z3oyO",
        "colab_type": "code",
        "colab": {
          "base_uri": "https://localhost:8080/",
          "height": 193
        },
        "outputId": "3d4fd983-8f91-4758-f300-bdbc9be25f36"
      },
      "source": [
        "x_train.head(3)"
      ],
      "execution_count": null,
      "outputs": [
        {
          "output_type": "execute_result",
          "data": {
            "text/html": [
              "<div>\n",
              "<style scoped>\n",
              "    .dataframe tbody tr th:only-of-type {\n",
              "        vertical-align: middle;\n",
              "    }\n",
              "\n",
              "    .dataframe tbody tr th {\n",
              "        vertical-align: top;\n",
              "    }\n",
              "\n",
              "    .dataframe thead th {\n",
              "        text-align: right;\n",
              "    }\n",
              "</style>\n",
              "<table border=\"1\" class=\"dataframe\">\n",
              "  <thead>\n",
              "    <tr style=\"text-align: right;\">\n",
              "      <th></th>\n",
              "      <th>birth_year</th>\n",
              "      <th>product</th>\n",
              "      <th>sex_F</th>\n",
              "      <th>sex_M</th>\n",
              "      <th>marital_status_D</th>\n",
              "      <th>marital_status_F</th>\n",
              "      <th>marital_status_M</th>\n",
              "      <th>marital_status_P</th>\n",
              "      <th>marital_status_R</th>\n",
              "      <th>marital_status_S</th>\n",
              "      <th>marital_status_U</th>\n",
              "      <th>marital_status_W</th>\n",
              "      <th>marital_status_f</th>\n",
              "      <th>branch_code_1X1H</th>\n",
              "      <th>branch_code_30H5</th>\n",
              "      <th>branch_code_49BM</th>\n",
              "      <th>branch_code_748L</th>\n",
              "      <th>branch_code_94KC</th>\n",
              "      <th>branch_code_9F9T</th>\n",
              "      <th>branch_code_BOAS</th>\n",
              "      <th>branch_code_E5SW</th>\n",
              "      <th>branch_code_EU3L</th>\n",
              "      <th>branch_code_O4JC</th>\n",
              "      <th>branch_code_O67J</th>\n",
              "      <th>branch_code_UAOD</th>\n",
              "      <th>branch_code_X23B</th>\n",
              "      <th>branch_code_XX25</th>\n",
              "      <th>branch_code_ZFER</th>\n",
              "      <th>occupation_code_00MO</th>\n",
              "      <th>occupation_code_0B60</th>\n",
              "      <th>occupation_code_0FOI</th>\n",
              "      <th>occupation_code_0KID</th>\n",
              "      <th>occupation_code_0OJM</th>\n",
              "      <th>occupation_code_0PO7</th>\n",
              "      <th>occupation_code_0S50</th>\n",
              "      <th>occupation_code_0SH6</th>\n",
              "      <th>occupation_code_0VYC</th>\n",
              "      <th>occupation_code_0ZND</th>\n",
              "      <th>occupation_code_1AN5</th>\n",
              "      <th>occupation_code_1DT6</th>\n",
              "      <th>...</th>\n",
              "      <th>occupation_code_VYSA</th>\n",
              "      <th>occupation_code_VZN9</th>\n",
              "      <th>occupation_code_W1X2</th>\n",
              "      <th>occupation_code_W3Y9</th>\n",
              "      <th>occupation_code_W3ZV</th>\n",
              "      <th>occupation_code_WE0G</th>\n",
              "      <th>occupation_code_WE7U</th>\n",
              "      <th>occupation_code_WIWP</th>\n",
              "      <th>occupation_code_WMTK</th>\n",
              "      <th>occupation_code_WSID</th>\n",
              "      <th>occupation_code_WSRG</th>\n",
              "      <th>occupation_code_WV7U</th>\n",
              "      <th>occupation_code_WVQF</th>\n",
              "      <th>occupation_code_X1JO</th>\n",
              "      <th>occupation_code_XC1N</th>\n",
              "      <th>occupation_code_XHJD</th>\n",
              "      <th>occupation_code_XVMH</th>\n",
              "      <th>occupation_code_Y1WG</th>\n",
              "      <th>occupation_code_Y7G1</th>\n",
              "      <th>occupation_code_YJXM</th>\n",
              "      <th>occupation_code_YMGT</th>\n",
              "      <th>occupation_code_YX47</th>\n",
              "      <th>occupation_code_Z7PM</th>\n",
              "      <th>occupation_code_ZA1S</th>\n",
              "      <th>occupation_code_ZCQR</th>\n",
              "      <th>occupation_code_ZHC2</th>\n",
              "      <th>occupation_code_ZKQ3</th>\n",
              "      <th>occupation_code_ZWPL</th>\n",
              "      <th>occupation_category_code_56SI</th>\n",
              "      <th>occupation_category_code_90QI</th>\n",
              "      <th>occupation_category_code_AHH5</th>\n",
              "      <th>occupation_category_code_JD7X</th>\n",
              "      <th>occupation_category_code_L44T</th>\n",
              "      <th>occupation_category_code_T4MS</th>\n",
              "      <th>Month</th>\n",
              "      <th>Year</th>\n",
              "      <th>Day</th>\n",
              "      <th>WeekOfYear</th>\n",
              "      <th>DayOfWeek</th>\n",
              "      <th>age</th>\n",
              "    </tr>\n",
              "  </thead>\n",
              "  <tbody>\n",
              "    <tr>\n",
              "      <th>0</th>\n",
              "      <td>1987</td>\n",
              "      <td>0.825723</td>\n",
              "      <td>1</td>\n",
              "      <td>0</td>\n",
              "      <td>0</td>\n",
              "      <td>0</td>\n",
              "      <td>1</td>\n",
              "      <td>0</td>\n",
              "      <td>0</td>\n",
              "      <td>0</td>\n",
              "      <td>0</td>\n",
              "      <td>0</td>\n",
              "      <td>0</td>\n",
              "      <td>1</td>\n",
              "      <td>0</td>\n",
              "      <td>0</td>\n",
              "      <td>0</td>\n",
              "      <td>0</td>\n",
              "      <td>0</td>\n",
              "      <td>0</td>\n",
              "      <td>0</td>\n",
              "      <td>0</td>\n",
              "      <td>0</td>\n",
              "      <td>0</td>\n",
              "      <td>0</td>\n",
              "      <td>0</td>\n",
              "      <td>0</td>\n",
              "      <td>0</td>\n",
              "      <td>0</td>\n",
              "      <td>0</td>\n",
              "      <td>0</td>\n",
              "      <td>0</td>\n",
              "      <td>0</td>\n",
              "      <td>0</td>\n",
              "      <td>0</td>\n",
              "      <td>0</td>\n",
              "      <td>0</td>\n",
              "      <td>0</td>\n",
              "      <td>0</td>\n",
              "      <td>0</td>\n",
              "      <td>...</td>\n",
              "      <td>0</td>\n",
              "      <td>0</td>\n",
              "      <td>0</td>\n",
              "      <td>0</td>\n",
              "      <td>0</td>\n",
              "      <td>0</td>\n",
              "      <td>0</td>\n",
              "      <td>0</td>\n",
              "      <td>0</td>\n",
              "      <td>0</td>\n",
              "      <td>0</td>\n",
              "      <td>0</td>\n",
              "      <td>0</td>\n",
              "      <td>0</td>\n",
              "      <td>0</td>\n",
              "      <td>0</td>\n",
              "      <td>0</td>\n",
              "      <td>0</td>\n",
              "      <td>0</td>\n",
              "      <td>0</td>\n",
              "      <td>0</td>\n",
              "      <td>0</td>\n",
              "      <td>0</td>\n",
              "      <td>0</td>\n",
              "      <td>0</td>\n",
              "      <td>0</td>\n",
              "      <td>0</td>\n",
              "      <td>0</td>\n",
              "      <td>0</td>\n",
              "      <td>0</td>\n",
              "      <td>0</td>\n",
              "      <td>0</td>\n",
              "      <td>0</td>\n",
              "      <td>1</td>\n",
              "      <td>-0.016615</td>\n",
              "      <td>0.667606</td>\n",
              "      <td>-1.305881</td>\n",
              "      <td>-0.190571</td>\n",
              "      <td>-0.543796</td>\n",
              "      <td>-0.666494</td>\n",
              "    </tr>\n",
              "    <tr>\n",
              "      <th>1</th>\n",
              "      <td>1981</td>\n",
              "      <td>0.825723</td>\n",
              "      <td>1</td>\n",
              "      <td>0</td>\n",
              "      <td>0</td>\n",
              "      <td>0</td>\n",
              "      <td>1</td>\n",
              "      <td>0</td>\n",
              "      <td>0</td>\n",
              "      <td>0</td>\n",
              "      <td>0</td>\n",
              "      <td>0</td>\n",
              "      <td>0</td>\n",
              "      <td>0</td>\n",
              "      <td>0</td>\n",
              "      <td>0</td>\n",
              "      <td>0</td>\n",
              "      <td>0</td>\n",
              "      <td>0</td>\n",
              "      <td>0</td>\n",
              "      <td>0</td>\n",
              "      <td>0</td>\n",
              "      <td>0</td>\n",
              "      <td>0</td>\n",
              "      <td>1</td>\n",
              "      <td>0</td>\n",
              "      <td>0</td>\n",
              "      <td>0</td>\n",
              "      <td>0</td>\n",
              "      <td>0</td>\n",
              "      <td>0</td>\n",
              "      <td>0</td>\n",
              "      <td>0</td>\n",
              "      <td>0</td>\n",
              "      <td>0</td>\n",
              "      <td>0</td>\n",
              "      <td>0</td>\n",
              "      <td>0</td>\n",
              "      <td>0</td>\n",
              "      <td>0</td>\n",
              "      <td>...</td>\n",
              "      <td>0</td>\n",
              "      <td>0</td>\n",
              "      <td>0</td>\n",
              "      <td>0</td>\n",
              "      <td>0</td>\n",
              "      <td>0</td>\n",
              "      <td>0</td>\n",
              "      <td>0</td>\n",
              "      <td>0</td>\n",
              "      <td>0</td>\n",
              "      <td>0</td>\n",
              "      <td>0</td>\n",
              "      <td>0</td>\n",
              "      <td>0</td>\n",
              "      <td>0</td>\n",
              "      <td>0</td>\n",
              "      <td>0</td>\n",
              "      <td>0</td>\n",
              "      <td>0</td>\n",
              "      <td>0</td>\n",
              "      <td>0</td>\n",
              "      <td>0</td>\n",
              "      <td>0</td>\n",
              "      <td>0</td>\n",
              "      <td>0</td>\n",
              "      <td>0</td>\n",
              "      <td>0</td>\n",
              "      <td>0</td>\n",
              "      <td>0</td>\n",
              "      <td>0</td>\n",
              "      <td>0</td>\n",
              "      <td>0</td>\n",
              "      <td>0</td>\n",
              "      <td>1</td>\n",
              "      <td>-0.016615</td>\n",
              "      <td>0.667606</td>\n",
              "      <td>-0.106598</td>\n",
              "      <td>-0.190571</td>\n",
              "      <td>1.600268</td>\n",
              "      <td>-0.017085</td>\n",
              "    </tr>\n",
              "    <tr>\n",
              "      <th>2</th>\n",
              "      <td>1991</td>\n",
              "      <td>0.825723</td>\n",
              "      <td>0</td>\n",
              "      <td>1</td>\n",
              "      <td>0</td>\n",
              "      <td>0</td>\n",
              "      <td>0</td>\n",
              "      <td>0</td>\n",
              "      <td>0</td>\n",
              "      <td>0</td>\n",
              "      <td>1</td>\n",
              "      <td>0</td>\n",
              "      <td>0</td>\n",
              "      <td>0</td>\n",
              "      <td>0</td>\n",
              "      <td>0</td>\n",
              "      <td>1</td>\n",
              "      <td>0</td>\n",
              "      <td>0</td>\n",
              "      <td>0</td>\n",
              "      <td>0</td>\n",
              "      <td>0</td>\n",
              "      <td>0</td>\n",
              "      <td>0</td>\n",
              "      <td>0</td>\n",
              "      <td>0</td>\n",
              "      <td>0</td>\n",
              "      <td>0</td>\n",
              "      <td>0</td>\n",
              "      <td>0</td>\n",
              "      <td>0</td>\n",
              "      <td>0</td>\n",
              "      <td>0</td>\n",
              "      <td>0</td>\n",
              "      <td>0</td>\n",
              "      <td>0</td>\n",
              "      <td>0</td>\n",
              "      <td>0</td>\n",
              "      <td>0</td>\n",
              "      <td>0</td>\n",
              "      <td>...</td>\n",
              "      <td>0</td>\n",
              "      <td>0</td>\n",
              "      <td>0</td>\n",
              "      <td>0</td>\n",
              "      <td>0</td>\n",
              "      <td>0</td>\n",
              "      <td>0</td>\n",
              "      <td>0</td>\n",
              "      <td>0</td>\n",
              "      <td>0</td>\n",
              "      <td>0</td>\n",
              "      <td>0</td>\n",
              "      <td>0</td>\n",
              "      <td>0</td>\n",
              "      <td>0</td>\n",
              "      <td>0</td>\n",
              "      <td>0</td>\n",
              "      <td>0</td>\n",
              "      <td>0</td>\n",
              "      <td>0</td>\n",
              "      <td>0</td>\n",
              "      <td>0</td>\n",
              "      <td>0</td>\n",
              "      <td>0</td>\n",
              "      <td>0</td>\n",
              "      <td>0</td>\n",
              "      <td>0</td>\n",
              "      <td>0</td>\n",
              "      <td>0</td>\n",
              "      <td>1</td>\n",
              "      <td>0</td>\n",
              "      <td>0</td>\n",
              "      <td>0</td>\n",
              "      <td>0</td>\n",
              "      <td>-0.016615</td>\n",
              "      <td>-2.459298</td>\n",
              "      <td>-0.106598</td>\n",
              "      <td>-0.190571</td>\n",
              "      <td>1.600268</td>\n",
              "      <td>-1.748844</td>\n",
              "    </tr>\n",
              "  </tbody>\n",
              "</table>\n",
              "<p>3 rows × 282 columns</p>\n",
              "</div>"
            ],
            "text/plain": [
              "   birth_year   product  sex_F  ...  WeekOfYear  DayOfWeek       age\n",
              "0        1987  0.825723      1  ...   -0.190571  -0.543796 -0.666494\n",
              "1        1981  0.825723      1  ...   -0.190571   1.600268 -0.017085\n",
              "2        1991  0.825723      0  ...   -0.190571   1.600268 -1.748844\n",
              "\n",
              "[3 rows x 282 columns]"
            ]
          },
          "metadata": {
            "tags": []
          },
          "execution_count": 129
        }
      ]
    },
    {
      "cell_type": "code",
      "metadata": {
        "id": "92djBzLfwL6i",
        "colab_type": "code",
        "colab": {
          "base_uri": "https://localhost:8080/",
          "height": 312
        },
        "outputId": "35c9029a-bedf-4e09-8d3d-9ea2924df7ec"
      },
      "source": [
        "import lightgbm\n",
        "lightgbm.plot_importance(lgbm)"
      ],
      "execution_count": null,
      "outputs": [
        {
          "output_type": "execute_result",
          "data": {
            "text/plain": [
              "<matplotlib.axes._subplots.AxesSubplot at 0x7f7142d3fb38>"
            ]
          },
          "metadata": {
            "tags": []
          },
          "execution_count": 118
        },
        {
          "output_type": "display_data",
          "data": {
            "image/png": "[encoded data removed]",
            "text/plain": [
              "<Figure size 432x288 with 1 Axes>"
            ]
          },
          "metadata": {
            "tags": [],
            "needs_background": "light"
          }
        }
      ]
    },
    {
      "cell_type": "code",
      "metadata": {
        "id": "tTHK_uLl_Jb4",
        "colab_type": "code",
        "colab": {
          "base_uri": "https://localhost:8080/",
          "height": 363
        },
        "outputId": "bb28985d-1d3c-4785-de6f-1e0f9191a71a"
      },
      "source": [
        "sub_prob.tail(10)"
      ],
      "execution_count": null,
      "outputs": [
        {
          "output_type": "execute_result",
          "data": {
            "text/html": [
              "<div>\n",
              "<style scoped>\n",
              "    .dataframe tbody tr th:only-of-type {\n",
              "        vertical-align: middle;\n",
              "    }\n",
              "\n",
              "    .dataframe tbody tr th {\n",
              "        vertical-align: top;\n",
              "    }\n",
              "\n",
              "    .dataframe thead th {\n",
              "        text-align: right;\n",
              "    }\n",
              "</style>\n",
              "<table border=\"1\" class=\"dataframe\">\n",
              "  <thead>\n",
              "    <tr style=\"text-align: right;\">\n",
              "      <th></th>\n",
              "      <th>ID X PCODE</th>\n",
              "      <th>Label</th>\n",
              "    </tr>\n",
              "  </thead>\n",
              "  <tbody>\n",
              "    <tr>\n",
              "      <th>209990</th>\n",
              "      <td>E5UNMF2 X ECY3</td>\n",
              "      <td>0.019720</td>\n",
              "    </tr>\n",
              "    <tr>\n",
              "      <th>209991</th>\n",
              "      <td>W5L095K X ECY3</td>\n",
              "      <td>0.021049</td>\n",
              "    </tr>\n",
              "    <tr>\n",
              "      <th>209992</th>\n",
              "      <td>8RXBQ1N X ECY3</td>\n",
              "      <td>0.018781</td>\n",
              "    </tr>\n",
              "    <tr>\n",
              "      <th>209993</th>\n",
              "      <td>50FTH77 X ECY3</td>\n",
              "      <td>0.003311</td>\n",
              "    </tr>\n",
              "    <tr>\n",
              "      <th>209994</th>\n",
              "      <td>9RUOW2K X ECY3</td>\n",
              "      <td>0.020275</td>\n",
              "    </tr>\n",
              "    <tr>\n",
              "      <th>209995</th>\n",
              "      <td>0GMU5UH X ECY3</td>\n",
              "      <td>0.023075</td>\n",
              "    </tr>\n",
              "    <tr>\n",
              "      <th>209996</th>\n",
              "      <td>I9W11CD X ECY3</td>\n",
              "      <td>0.020007</td>\n",
              "    </tr>\n",
              "    <tr>\n",
              "      <th>209997</th>\n",
              "      <td>42WTEGT X ECY3</td>\n",
              "      <td>0.002841</td>\n",
              "    </tr>\n",
              "    <tr>\n",
              "      <th>209998</th>\n",
              "      <td>8EKC4O9 X ECY3</td>\n",
              "      <td>0.012082</td>\n",
              "    </tr>\n",
              "    <tr>\n",
              "      <th>209999</th>\n",
              "      <td>WHII93K X ECY3</td>\n",
              "      <td>0.022424</td>\n",
              "    </tr>\n",
              "  </tbody>\n",
              "</table>\n",
              "</div>"
            ],
            "text/plain": [
              "            ID X PCODE     Label\n",
              "209990  E5UNMF2 X ECY3  0.019720\n",
              "209991  W5L095K X ECY3  0.021049\n",
              "209992  8RXBQ1N X ECY3  0.018781\n",
              "209993  50FTH77 X ECY3  0.003311\n",
              "209994  9RUOW2K X ECY3  0.020275\n",
              "209995  0GMU5UH X ECY3  0.023075\n",
              "209996  I9W11CD X ECY3  0.020007\n",
              "209997  42WTEGT X ECY3  0.002841\n",
              "209998  8EKC4O9 X ECY3  0.012082\n",
              "209999  WHII93K X ECY3  0.022424"
            ]
          },
          "metadata": {
            "tags": []
          },
          "execution_count": 359
        }
      ]
    }
  ]
}
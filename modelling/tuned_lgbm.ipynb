{
 "cells": [
  {
   "cell_type": "code",
   "execution_count": 1,
   "metadata": {
    "colab": {
     "base_uri": "https://localhost:8080/",
     "height": 70
    },
    "colab_type": "code",
    "id": "B_kE9B8oHmkO",
    "outputId": "58acc180-327a-4420-ce81-d407ed43df47"
   },
   "outputs": [
    {
     "name": "stderr",
     "output_type": "stream",
     "text": [
      "/usr/local/lib/python3.6/dist-packages/statsmodels/tools/_testing.py:19: FutureWarning: pandas.util.testing is deprecated. Use the functions in the public API at pandas.testing instead.\n",
      "  import pandas.util.testing as tm\n"
     ]
    }
   ],
   "source": [
    "import pandas as pd, os, gc\n",
    "import numpy as np\n",
    "import math\n",
    "import os\n",
    "import datetime\n",
    "import seaborn as sns\n",
    "import matplotlib.pyplot as plt\n",
    "#import plotly.express as px\n",
    "from sklearn.ensemble import RandomForestClassifier, GradientBoostingClassifier, AdaBoostClassifier\n",
    "import lightgbm as lgb\n",
    "from sklearn.neighbors import KNeighborsClassifier\n",
    "from sklearn.cluster import KMeans\n",
    "from sklearn.preprocessing import LabelEncoder\n",
    "from sklearn.pipeline import Pipeline\n",
    "from sklearn.metrics import roc_curve, auc, log_loss\n",
    "from sklearn.feature_selection import mutual_info_classif\n",
    "from sklearn.preprocessing import StandardScaler, RobustScaler\n",
    "%matplotlib inline\n",
    "import warnings\n",
    "warnings.filterwarnings('ignore')\n",
    "from typing import List "
   ]
  },
  {
   "cell_type": "code",
   "execution_count": 2,
   "metadata": {
    "colab": {
     "base_uri": "https://localhost:8080/",
     "height": 33
    },
    "colab_type": "code",
    "id": "rvJqmc6EHzwr",
    "outputId": "0add242d-8b93-49e1-8b66-a470f5a31073"
   },
   "outputs": [],
   "source": [
    "from google.colab import drive\n",
    "drive.mount('/content/drive')"
   ]
  },
  {
   "cell_type": "code",
   "execution_count": 3,
   "metadata": {
    "colab": {},
    "colab_type": "code",
    "id": "3fKW_WBSRBnc"
   },
   "outputs": [],
   "source": [
    "path = '/content/drive/My Drive/10Acad/Train.csv'\n",
    "path_test = '/content/drive/My Drive/10Acad/Test.csv'"
   ]
  },
  {
   "cell_type": "code",
   "execution_count": 4,
   "metadata": {
    "colab": {},
    "colab_type": "code",
    "id": "DIz0W1cNH6b3"
   },
   "outputs": [],
   "source": [
    "train =pd.read_csv(path, parse_dates=['join_date'])\n",
    "test = pd.read_csv(path_test, parse_dates=['join_date'])\n",
    "    \n",
    "    \n",
    "#Store Products ID in Multidimensional array\n",
    "products =train[['P5DA', 'RIBP', '8NN1',\n",
    "       '7POT', '66FJ', 'GYSR', 'SOP4', 'RVSZ', 'PYUQ', 'LJR9', 'N2MW', 'AHXO',\n",
    "       'BSTQ', 'FM3X', 'K6QO', 'QBOL', 'JWFN', 'JZ9D', 'J9JW', 'GHYX', 'ECY3']]\n",
    "products_t =test[['P5DA', 'RIBP', '8NN1',\n",
    "       '7POT', '66FJ', 'GYSR', 'SOP4', 'RVSZ', 'PYUQ', 'LJR9', 'N2MW', 'AHXO',\n",
    "       'BSTQ', 'FM3X', 'K6QO', 'QBOL', 'JWFN', 'JZ9D', 'J9JW', 'GHYX', 'ECY3']]\n",
    "    \n",
    "train = train.melt(id_vars=train.columns[:8], value_vars=products, var_name = \"PCODE\", value_name=\"Label\" )\n",
    "test = test.melt(id_vars=test.columns[:8], value_vars=products_t, var_name = \"PCODE\", value_name=\"Label\" )\n",
    "    \n",
    "    #Concatenate new column towards submission requirement\n",
    "train['ID X PCODE'] = train['ID'] + ' X ' + train['PCODE']\n",
    "test['ID X PCODE'] = test['ID'] + ' X ' + test['PCODE']\n",
    "test.drop('Label', inplace=True, axis=1) "
   ]
  },
  {
   "cell_type": "code",
   "execution_count": 5,
   "metadata": {
    "colab": {},
    "colab_type": "code",
    "id": "yTQpancVH7ja"
   },
   "outputs": [],
   "source": [
    "train.fillna('2018-01-05', inplace=True)\n",
    "test.fillna('2018-01-05', inplace=True)"
   ]
  },
  {
   "cell_type": "code",
   "execution_count": 6,
   "metadata": {
    "colab": {},
    "colab_type": "code",
    "id": "ckUmKkvLIDKs"
   },
   "outputs": [],
   "source": [
    "#Computing the duration  of the client in the insurance company\n",
    "#converting the 'Date' column  to date formate\n",
    "train[\"join_date\"] = pd.to_datetime(train[\"join_date\"],format = \"%Y-%m-%d\")\n",
    "test[\"join_date\"] = pd.to_datetime(test[\"join_date\"],format = \"%Y-%m-%d\")\n",
    "today = datetime.date.today()\n",
    "    \n",
    "train[\"duration\"] = today.year - train[\"join_date\"].dt.year\n",
    "#Computing the age  of the client\n",
    "train[\"age\"] = today.year - train[\"birth_year\"]\n",
    "\n",
    "test[\"duration\"] = today.year - test[\"join_date\"].dt.year\n",
    "#Computing the age  of the client\n",
    "test[\"age\"] = today.year - test[\"birth_year\"]"
   ]
  },
  {
   "cell_type": "code",
   "execution_count": 7,
   "metadata": {
    "colab": {},
    "colab_type": "code",
    "id": "gtyp9RRwIKxG"
   },
   "outputs": [],
   "source": [
    "# function to preprocess our data from train models\n",
    "from sklearn.preprocessing import LabelEncoder\n",
    "le = LabelEncoder()\n",
    "scaler = StandardScaler()\n",
    "def preprocessing_data(data):\n",
    "\n",
    "    # Convert the following numerical labels from integer to float\n",
    "    float_array = data[[\"age\", \"duration\",\"birth_year\"]].values.astype(float)\n",
    "    \n",
    "    # categorical features to be onverted to One Hot Encoding\n",
    "    categ = [\n",
    "    'branch_code','occupation_category_code','marital_status'\n",
    "    ]\n",
    "    \n",
    "    # One Hot Encoding conversion\n",
    "    data = pd.get_dummies(data, prefix_sep=\"_\", columns=categ)\n",
    "    \n",
    "    # Binary Encoding : sex\n",
    "    data[\"IsMale\"] = np.where(data.sex == 'M', 1, 0)\n",
    "    \n",
    "    # Label Encoder conversion\n",
    "    data[\"occupation_code\"] = le.fit_transform(data[\"occupation_code\"])\n",
    "    data[\"PCODE\"] = le.fit_transform(data[\"PCODE\"])\n",
    "    data[\"ID\"] = le.fit_transform(data[\"ID\"])\n",
    "    \n",
    "    # drop sex column\n",
    "    data = data.drop([\"sex\"], axis=1)\n",
    "    \n",
    "    # Select numerical columns\n",
    "    numeric_columns = [\"age\",\"duration\",\"birth_year\"]\n",
    "    data[numeric_columns] = scaler.fit_transform(data[numeric_columns])\n",
    "    \n",
    "    return data"
   ]
  },
  {
   "cell_type": "code",
   "execution_count": 8,
   "metadata": {
    "colab": {},
    "colab_type": "code",
    "id": "kqoTuA9nIWh5"
   },
   "outputs": [],
   "source": [
    "train_scaled = preprocessing_data(train)\n",
    "test_scaled = preprocessing_data(test)"
   ]
  },
  {
   "cell_type": "code",
   "execution_count": 9,
   "metadata": {
    "colab": {
     "base_uri": "https://localhost:8080/",
     "height": 50
    },
    "colab_type": "code",
    "id": "AVVV_uOyIaHY",
    "outputId": "b9b91759-7540-43da-9f2c-dfa7b43a5404"
   },
   "outputs": [
    {
     "name": "stdout",
     "output_type": "stream",
     "text": [
      "(611772, 39)\n",
      "(210000, 38)\n"
     ]
    }
   ],
   "source": [
    "print(train_scaled.shape)\n",
    "print(test_scaled.shape)"
   ]
  },
  {
   "cell_type": "code",
   "execution_count": 10,
   "metadata": {
    "colab": {
     "base_uri": "https://localhost:8080/",
     "height": 83
    },
    "colab_type": "code",
    "id": "U1XP4Wd7NiBe",
    "outputId": "35d5b0a0-e299-4b9d-fc03-6063790ba5a2"
   },
   "outputs": [
    {
     "data": {
      "application/vnd.google.colaboratory.intrinsic+json": {
       "type": "string"
      },
      "text/plain": [
       "'def get_submission_file(model, filename):\\n    # converting to the matrix\\n    test_X = preprocessed_test_data.as_matrix().astype(\\'float\\')\\n    # make predictions\\n    predictions = model.predict(test_X)\\n    # submission dataframe\\n    df_submission = pd.DataFrame({\\'ID X PCODE\\': preprocessed_test_data[\"ID X PCODE\"], \\'Label\\' : predictions})\\n    # submission file\\n    submission_data_path = os.path.join(os.path.pardir, \\'data\\', \\'external\\')\\n    submission_file_path = os.path.join(submission_data_path, filename)\\n    # write to the file\\n    df_submission.to_csv(submission_file_path, index=False)'"
      ]
     },
     "execution_count": 10,
     "metadata": {
      "tags": []
     },
     "output_type": "execute_result"
    }
   ],
   "source": [
    "'''def get_submission_file(model, filename):\n",
    "    # converting to the matrix\n",
    "    test_X = preprocessed_test_data.as_matrix().astype('float')\n",
    "    # make predictions\n",
    "    predictions = model.predict(test_X)\n",
    "    # submission dataframe\n",
    "    df_submission = pd.DataFrame({'ID X PCODE': preprocessed_test_data[\"ID X PCODE\"], 'Label' : predictions})\n",
    "    # submission file\n",
    "    submission_data_path = os.path.join(os.path.pardir, 'data', 'external')\n",
    "    submission_file_path = os.path.join(submission_data_path, filename)\n",
    "    # write to the file\n",
    "    df_submission.to_csv(submission_file_path, index=False)'''"
   ]
  },
  {
   "cell_type": "code",
   "execution_count": 17,
   "metadata": {
    "colab": {},
    "colab_type": "code",
    "id": "cGOUw1OXIj_u"
   },
   "outputs": [],
   "source": [
    "X = train_scaled.drop(columns=['join_date', 'ID X PCODE','birth_year', 'Label'])\n",
    "y = train_scaled['Label']\n",
    "sampled_test = test_scaled.drop(columns=['join_date', 'birth_year','ID X PCODE'])"
   ]
  },
  {
   "cell_type": "code",
   "execution_count": 12,
   "metadata": {
    "colab": {
     "base_uri": "https://localhost:8080/",
     "height": 1000
    },
    "colab_type": "code",
    "id": "yzIEl11VNFgT",
    "outputId": "236225f0-cb39-422f-9d05-c5bb82f68ce0"
   },
   "outputs": [
    {
     "name": "stdout",
     "output_type": "stream",
     "text": [
      "[1]\tvalid's auc: 0.932586\n",
      "Training until validation scores don't improve for 30 rounds.\n",
      "[2]\tvalid's auc: 0.949224\n",
      "[3]\tvalid's auc: 0.948716\n",
      "[4]\tvalid's auc: 0.950446\n",
      "[5]\tvalid's auc: 0.950827\n",
      "[6]\tvalid's auc: 0.957779\n",
      "[7]\tvalid's auc: 0.958199\n",
      "[8]\tvalid's auc: 0.958221\n",
      "[9]\tvalid's auc: 0.959992\n",
      "[10]\tvalid's auc: 0.96037\n",
      "[11]\tvalid's auc: 0.961388\n",
      "[12]\tvalid's auc: 0.961773\n",
      "[13]\tvalid's auc: 0.961662\n",
      "[14]\tvalid's auc: 0.96178\n",
      "[15]\tvalid's auc: 0.9623\n",
      "[16]\tvalid's auc: 0.963788\n",
      "[17]\tvalid's auc: 0.964349\n",
      "[18]\tvalid's auc: 0.964577\n",
      "[19]\tvalid's auc: 0.964561\n",
      "[20]\tvalid's auc: 0.965007\n",
      "[21]\tvalid's auc: 0.965105\n",
      "[22]\tvalid's auc: 0.96569\n",
      "[23]\tvalid's auc: 0.96598\n",
      "[24]\tvalid's auc: 0.966181\n",
      "[25]\tvalid's auc: 0.966354\n",
      "[26]\tvalid's auc: 0.966978\n",
      "[27]\tvalid's auc: 0.967762\n",
      "[28]\tvalid's auc: 0.967991\n",
      "[29]\tvalid's auc: 0.968302\n",
      "[30]\tvalid's auc: 0.968732\n",
      "[31]\tvalid's auc: 0.969036\n",
      "[32]\tvalid's auc: 0.969269\n",
      "[33]\tvalid's auc: 0.969397\n",
      "[34]\tvalid's auc: 0.969524\n",
      "[35]\tvalid's auc: 0.969792\n",
      "[36]\tvalid's auc: 0.969905\n",
      "[37]\tvalid's auc: 0.970129\n",
      "[38]\tvalid's auc: 0.970209\n",
      "[39]\tvalid's auc: 0.970345\n",
      "[40]\tvalid's auc: 0.970603\n",
      "[41]\tvalid's auc: 0.97075\n",
      "[42]\tvalid's auc: 0.970901\n",
      "[43]\tvalid's auc: 0.971077\n",
      "[44]\tvalid's auc: 0.971304\n",
      "[45]\tvalid's auc: 0.971402\n",
      "[46]\tvalid's auc: 0.971484\n",
      "[47]\tvalid's auc: 0.97161\n",
      "[48]\tvalid's auc: 0.971784\n",
      "[49]\tvalid's auc: 0.97189\n",
      "[50]\tvalid's auc: 0.972031\n",
      "[51]\tvalid's auc: 0.972132\n",
      "[52]\tvalid's auc: 0.972179\n",
      "[53]\tvalid's auc: 0.972231\n",
      "[54]\tvalid's auc: 0.9723\n",
      "[55]\tvalid's auc: 0.972423\n",
      "[56]\tvalid's auc: 0.972503\n",
      "[57]\tvalid's auc: 0.972586\n",
      "[58]\tvalid's auc: 0.972618\n",
      "[59]\tvalid's auc: 0.972691\n",
      "[60]\tvalid's auc: 0.972764\n",
      "[61]\tvalid's auc: 0.972817\n",
      "[62]\tvalid's auc: 0.972895\n",
      "[63]\tvalid's auc: 0.972948\n",
      "[64]\tvalid's auc: 0.973014\n",
      "[65]\tvalid's auc: 0.973032\n",
      "[66]\tvalid's auc: 0.973078\n",
      "[67]\tvalid's auc: 0.973117\n",
      "[68]\tvalid's auc: 0.973214\n",
      "[69]\tvalid's auc: 0.973261\n",
      "[70]\tvalid's auc: 0.973295\n",
      "[71]\tvalid's auc: 0.973371\n",
      "[72]\tvalid's auc: 0.973382\n",
      "[73]\tvalid's auc: 0.973409\n",
      "[74]\tvalid's auc: 0.973462\n",
      "[75]\tvalid's auc: 0.973532\n",
      "[76]\tvalid's auc: 0.973603\n",
      "[77]\tvalid's auc: 0.973626\n",
      "[78]\tvalid's auc: 0.97361\n",
      "[79]\tvalid's auc: 0.973674\n",
      "[80]\tvalid's auc: 0.973745\n",
      "[81]\tvalid's auc: 0.973789\n",
      "[82]\tvalid's auc: 0.973872\n",
      "[83]\tvalid's auc: 0.973868\n",
      "[84]\tvalid's auc: 0.973883\n",
      "[85]\tvalid's auc: 0.974037\n",
      "[86]\tvalid's auc: 0.974059\n",
      "[87]\tvalid's auc: 0.97406\n",
      "[88]\tvalid's auc: 0.974079\n",
      "[89]\tvalid's auc: 0.974114\n",
      "[90]\tvalid's auc: 0.974141\n",
      "[91]\tvalid's auc: 0.974148\n",
      "[92]\tvalid's auc: 0.974155\n",
      "[93]\tvalid's auc: 0.974183\n",
      "[94]\tvalid's auc: 0.97417\n",
      "[95]\tvalid's auc: 0.974222\n",
      "[96]\tvalid's auc: 0.974252\n",
      "[97]\tvalid's auc: 0.974259\n",
      "[98]\tvalid's auc: 0.974284\n",
      "[99]\tvalid's auc: 0.974307\n",
      "[100]\tvalid's auc: 0.974328\n",
      "[101]\tvalid's auc: 0.974354\n",
      "[102]\tvalid's auc: 0.974353\n",
      "[103]\tvalid's auc: 0.974356\n",
      "[104]\tvalid's auc: 0.974386\n",
      "[105]\tvalid's auc: 0.974391\n",
      "[106]\tvalid's auc: 0.974409\n",
      "[107]\tvalid's auc: 0.974403\n",
      "[108]\tvalid's auc: 0.974424\n",
      "[109]\tvalid's auc: 0.974466\n",
      "[110]\tvalid's auc: 0.974532\n",
      "[111]\tvalid's auc: 0.974566\n",
      "[112]\tvalid's auc: 0.97458\n",
      "[113]\tvalid's auc: 0.97458\n",
      "[114]\tvalid's auc: 0.974614\n",
      "[115]\tvalid's auc: 0.974673\n",
      "[116]\tvalid's auc: 0.974674\n",
      "[117]\tvalid's auc: 0.974684\n",
      "[118]\tvalid's auc: 0.974733\n",
      "[119]\tvalid's auc: 0.974746\n",
      "[120]\tvalid's auc: 0.974746\n",
      "[121]\tvalid's auc: 0.974754\n",
      "[122]\tvalid's auc: 0.974752\n",
      "[123]\tvalid's auc: 0.974768\n",
      "[124]\tvalid's auc: 0.97478\n",
      "[125]\tvalid's auc: 0.974795\n",
      "[126]\tvalid's auc: 0.974795\n",
      "[127]\tvalid's auc: 0.97482\n",
      "[128]\tvalid's auc: 0.974821\n",
      "[129]\tvalid's auc: 0.974833\n",
      "[130]\tvalid's auc: 0.974842\n",
      "[131]\tvalid's auc: 0.974874\n",
      "[132]\tvalid's auc: 0.974936\n",
      "[133]\tvalid's auc: 0.974942\n",
      "[134]\tvalid's auc: 0.97495\n",
      "[135]\tvalid's auc: 0.974981\n",
      "[136]\tvalid's auc: 0.974976\n",
      "[137]\tvalid's auc: 0.974987\n",
      "[138]\tvalid's auc: 0.975072\n",
      "[139]\tvalid's auc: 0.97508\n",
      "[140]\tvalid's auc: 0.975096\n",
      "[141]\tvalid's auc: 0.975116\n",
      "[142]\tvalid's auc: 0.97513\n",
      "[143]\tvalid's auc: 0.975131\n",
      "[144]\tvalid's auc: 0.975146\n",
      "[145]\tvalid's auc: 0.975149\n",
      "[146]\tvalid's auc: 0.975153\n",
      "[147]\tvalid's auc: 0.975166\n",
      "[148]\tvalid's auc: 0.975168\n",
      "[149]\tvalid's auc: 0.975183\n",
      "[150]\tvalid's auc: 0.975211\n",
      "[151]\tvalid's auc: 0.975239\n",
      "[152]\tvalid's auc: 0.975251\n",
      "[153]\tvalid's auc: 0.975264\n",
      "[154]\tvalid's auc: 0.97529\n",
      "[155]\tvalid's auc: 0.975296\n",
      "[156]\tvalid's auc: 0.975303\n",
      "[157]\tvalid's auc: 0.975304\n",
      "[158]\tvalid's auc: 0.97531\n",
      "[159]\tvalid's auc: 0.97533\n",
      "[160]\tvalid's auc: 0.975377\n",
      "[161]\tvalid's auc: 0.975382\n",
      "[162]\tvalid's auc: 0.975411\n",
      "[163]\tvalid's auc: 0.975417\n",
      "[164]\tvalid's auc: 0.975433\n",
      "[165]\tvalid's auc: 0.975472\n",
      "[166]\tvalid's auc: 0.975514\n",
      "[167]\tvalid's auc: 0.975511\n",
      "[168]\tvalid's auc: 0.975519\n",
      "[169]\tvalid's auc: 0.97552\n",
      "[170]\tvalid's auc: 0.975516\n",
      "[171]\tvalid's auc: 0.975525\n",
      "[172]\tvalid's auc: 0.975523\n",
      "[173]\tvalid's auc: 0.975521\n",
      "[174]\tvalid's auc: 0.975525\n",
      "[175]\tvalid's auc: 0.975526\n",
      "[176]\tvalid's auc: 0.975521\n",
      "[177]\tvalid's auc: 0.975515\n",
      "[178]\tvalid's auc: 0.975509\n",
      "[179]\tvalid's auc: 0.975502\n",
      "[180]\tvalid's auc: 0.975501\n",
      "[181]\tvalid's auc: 0.975495\n",
      "[182]\tvalid's auc: 0.975507\n",
      "[183]\tvalid's auc: 0.975506\n",
      "[184]\tvalid's auc: 0.975508\n",
      "[185]\tvalid's auc: 0.975524\n",
      "[186]\tvalid's auc: 0.975527\n",
      "[187]\tvalid's auc: 0.975547\n",
      "[188]\tvalid's auc: 0.975551\n",
      "[189]\tvalid's auc: 0.975549\n",
      "[190]\tvalid's auc: 0.975566\n",
      "[191]\tvalid's auc: 0.975571\n",
      "[192]\tvalid's auc: 0.97559\n",
      "[193]\tvalid's auc: 0.975586\n",
      "[194]\tvalid's auc: 0.975586\n",
      "[195]\tvalid's auc: 0.975591\n",
      "[196]\tvalid's auc: 0.975599\n",
      "[197]\tvalid's auc: 0.975602\n",
      "[198]\tvalid's auc: 0.975616\n",
      "[199]\tvalid's auc: 0.975631\n",
      "[200]\tvalid's auc: 0.975633\n",
      "[201]\tvalid's auc: 0.975643\n",
      "[202]\tvalid's auc: 0.975645\n",
      "[203]\tvalid's auc: 0.975654\n",
      "[204]\tvalid's auc: 0.975663\n",
      "[205]\tvalid's auc: 0.975675\n",
      "[206]\tvalid's auc: 0.97569\n",
      "[207]\tvalid's auc: 0.975697\n",
      "[208]\tvalid's auc: 0.975693\n",
      "[209]\tvalid's auc: 0.975702\n",
      "[210]\tvalid's auc: 0.9757\n",
      "[211]\tvalid's auc: 0.975699\n",
      "[212]\tvalid's auc: 0.975696\n",
      "[213]\tvalid's auc: 0.975695\n",
      "[214]\tvalid's auc: 0.975705\n",
      "[215]\tvalid's auc: 0.975687\n",
      "[216]\tvalid's auc: 0.975687\n",
      "[217]\tvalid's auc: 0.975686\n",
      "[218]\tvalid's auc: 0.975679\n",
      "[219]\tvalid's auc: 0.975674\n",
      "[220]\tvalid's auc: 0.975687\n",
      "[221]\tvalid's auc: 0.975686\n",
      "[222]\tvalid's auc: 0.97568\n",
      "[223]\tvalid's auc: 0.975654\n",
      "[224]\tvalid's auc: 0.975645\n",
      "[225]\tvalid's auc: 0.975537\n",
      "[226]\tvalid's auc: 0.975624\n",
      "[227]\tvalid's auc: 0.975595\n",
      "[228]\tvalid's auc: 0.975595\n",
      "[229]\tvalid's auc: 0.975598\n",
      "[230]\tvalid's auc: 0.975591\n",
      "[231]\tvalid's auc: 0.975592\n",
      "[232]\tvalid's auc: 0.975593\n",
      "[233]\tvalid's auc: 0.975589\n",
      "[234]\tvalid's auc: 0.975593\n",
      "[235]\tvalid's auc: 0.975576\n",
      "[236]\tvalid's auc: 0.975582\n",
      "[237]\tvalid's auc: 0.975585\n",
      "[238]\tvalid's auc: 0.975587\n",
      "[239]\tvalid's auc: 0.97559\n",
      "[240]\tvalid's auc: 0.97559\n",
      "[241]\tvalid's auc: 0.975595\n",
      "[242]\tvalid's auc: 0.975607\n",
      "[243]\tvalid's auc: 0.975608\n",
      "[244]\tvalid's auc: 0.975606\n",
      "Early stopping, best iteration is:\n",
      "[214]\tvalid's auc: 0.975705\n"
     ]
    },
    {
     "data": {
      "text/plain": [
       "0.9757050830669202"
      ]
     },
     "execution_count": 12,
     "metadata": {
      "tags": []
     },
     "output_type": "execute_result"
    }
   ],
   "source": [
    "#LightGBM\n",
    "import lightgbm as lgb\n",
    "from sklearn.model_selection import KFold, cross_val_score, train_test_split\n",
    "X_train, X_valid, y_train, y_valid = train_test_split(X, y, test_size=0.2, random_state=1234)\n",
    "SEARCH_PARAMS = {'learning_rate': 0.4,\n",
    "                'max_depth': 15,\n",
    "                'num_leaves': 32,\n",
    "                'feature_fraction': 0.8,\n",
    "                'subsample': 0.2}\n",
    "\n",
    "FIXED_PARAMS={'objective': 'binary',\n",
    "             'metric': 'auc',\n",
    "             'is_unbalance':True,\n",
    "             'bagging_freq':5,\n",
    "             'boosting':'dart',\n",
    "             'num_boost_round':300,\n",
    "             'early_stopping_rounds':30}\n",
    "train_data = lgb.Dataset(X_train, label=y_train)\n",
    "valid_data = lgb.Dataset(X_valid, label=y_valid)\n",
    "params = {'metric':FIXED_PARAMS['metric'],\n",
    "             'objective':FIXED_PARAMS['objective']}\n",
    "model = lgb.train(params, train_data,                     \n",
    "                     valid_sets=[valid_data],\n",
    "                     num_boost_round=FIXED_PARAMS['num_boost_round'],\n",
    "                     early_stopping_rounds=FIXED_PARAMS['early_stopping_rounds'],\n",
    "                     valid_names=['valid'])\n",
    "\n",
    "score = model.best_score['valid']['auc']\n",
    "score\n",
    "\n",
    "#get_submission_file(model, \"lightgbm_submission5.csv\")"
   ]
  },
  {
   "cell_type": "code",
   "execution_count": 25,
   "metadata": {
    "colab": {},
    "colab_type": "code",
    "id": "wZiaywR_N-sq"
   },
   "outputs": [],
   "source": [
    "test_X = sampled_test.values.astype('float')\n",
    "pred = model.predict(test_X)"
   ]
  },
  {
   "cell_type": "code",
   "execution_count": 19,
   "metadata": {
    "colab": {
     "base_uri": "https://localhost:8080/",
     "height": 131
    },
    "colab_type": "code",
    "id": "hSAc4mOBOtnM",
    "outputId": "930ebd84-cda0-4ce5-8530-edd0cf7af5e3"
   },
   "outputs": [
    {
     "name": "stdout",
     "output_type": "stream",
     "text": [
      "Pred_0: ID X PCODE    0\n",
      "Label         0\n",
      "dtype: int64\n",
      "----------------------------------------------------------\n",
      "Pred_1: ID X PCODE    0\n",
      "Label         0\n",
      "dtype: int64\n"
     ]
    }
   ],
   "source": [
    "#pred = clf.predict(sampled_test)\n",
    "#submission = pd.DataFrame({'ID X PCODE' : test['ID X PCODE'], 'Label':pred.index})\n",
    "submission = pd.DataFrame({'ID X PCODE':test['ID X PCODE'],'Label':pred})\n",
    "\n",
    "print('Pred_0: {}'.format(submission[submission['Label']==0].count()))\n",
    "print('----------------------------------------------------------')\n",
    "print('Pred_1: {}'.format(submission[submission['Label']==1].count()))"
   ]
  },
  {
   "cell_type": "code",
   "execution_count": 20,
   "metadata": {
    "colab": {},
    "colab_type": "code",
    "id": "iEl8V7DJO53z"
   },
   "outputs": [],
   "source": [
    "submission.to_csv('/content/drive/My Drive/10Acad/data/submission23.csv', index=False)"
   ]
  }
 ],
 "metadata": {
  "colab": {
   "name": "tuned_lgbm.ipynb",
   "provenance": []
  },
  "kernelspec": {
   "display_name": "Python 3",
   "language": "python",
   "name": "python3"
  },
  "language_info": {
   "codemirror_mode": {
    "name": "ipython",
    "version": 3
   },
   "file_extension": ".py",
   "mimetype": "text/x-python",
   "name": "python",
   "nbconvert_exporter": "python",
   "pygments_lexer": "ipython3",
   "version": "3.6.9"
  }
 },
 "nbformat": 4,
 "nbformat_minor": 4
}
